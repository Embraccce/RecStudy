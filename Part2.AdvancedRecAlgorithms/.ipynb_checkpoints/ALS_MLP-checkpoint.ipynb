{
 "cells": [
  {
   "cell_type": "code",
   "execution_count": 3,
   "id": "a2053e56-fc58-48f9-b8eb-cd9649a24fb9",
   "metadata": {},
   "outputs": [],
   "source": [
    "import torch\n",
    "import torch.nn as nn\n",
    "import torch.nn.functional as F"
   ]
  },
  {
   "cell_type": "code",
   "execution_count": 11,
   "id": "5775ae0f-5bcc-41d5-a0c8-90c2408e95ce",
   "metadata": {},
   "outputs": [
    {
     "data": {
      "text/plain": [
       "tensor([[0.],\n",
       "        [0.],\n",
       "        [0.],\n",
       "        [0.],\n",
       "        [0.],\n",
       "        [0.],\n",
       "        [0.],\n",
       "        [0.],\n",
       "        [0.]])"
      ]
     },
     "execution_count": 11,
     "metadata": {},
     "output_type": "execute_result"
    }
   ],
   "source": [
    "torch.empty(9,1)"
   ]
  },
  {
   "cell_type": "code",
   "execution_count": null,
   "id": "19deaa28-c172-4316-b33c-edce67228ee5",
   "metadata": {},
   "outputs": [],
   "source": [
    "class ALS_MLP(nn.Module):\n",
    "    def __init__(self,n_users,n_items,dim):\n",
    "        super(ALS_MLP,self).__init__()\n",
    "        self.users = nn.Embedding(n_users,dim,max_norm=1)\n",
    "        self.items = nn.Embedding(n_items,dim,max_norm=1)\n",
    "\n",
    "        self.u_hidden_layer1 = self.dense_layer(dim,dim//2)\n",
    "        self.u_hidden_layer2 = self.dense_layer(dim//2,dim//4)\n",
    "\n",
    "        self.i_hidden_layer1 = self.dense_layer(dim,dim//2)\n",
    "        self.i_hidden_layer2 = self.dense_layer(dim//2,dim//4)\n",
    "\n",
    "        self.sigmoid = nn.Sigmoid()\n",
    "\n",
    "    def dense_layer(self,in_features,out_features):\n",
    "        return nn.Sequential(\n",
    "            nn.Linear(in_features,out_features)\n",
    "            nn.Tanh()\n",
    "        )\n",
    "\n",
    "    def forward(self,u,i,isTrain=True):\n",
    "        u = self.users(u)\n",
    "        u = self.u_hidden_layer1(u)\n",
    "        u = self.u_hidden_layer2(u)\n",
    "        \n",
    "        i = self.items(v)\n",
    "        i = self.i_hidden_layer1(i)\n",
    "        i = self.i_hidden_layer2(i)\n",
    "\n",
    "        if isTrain:\n",
    "            u = F.dr\n",
    "            v = "
   ]
  }
 ],
 "metadata": {
  "kernelspec": {
   "display_name": "Rec",
   "language": "python",
   "name": "rec"
  },
  "language_info": {
   "codemirror_mode": {
    "name": "ipython",
    "version": 3
   },
   "file_extension": ".py",
   "mimetype": "text/x-python",
   "name": "python",
   "nbconvert_exporter": "python",
   "pygments_lexer": "ipython3",
   "version": "3.9.20"
  }
 },
 "nbformat": 4,
 "nbformat_minor": 5
}
