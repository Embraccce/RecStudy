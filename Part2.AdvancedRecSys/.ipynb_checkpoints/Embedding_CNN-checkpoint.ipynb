{
 "cells": [
  {
   "cell_type": "code",
   "execution_count": 1,
   "id": "912b8b0c-30db-4056-bf1d-1d8aacb6b8c8",
   "metadata": {},
   "outputs": [],
   "source": [
    "import torch\n",
    "import torch.nn as nn\n",
    "import torch.nn.functional as F\n",
    "import numpy as np\n",
    "import pandas as pd"
   ]
  },
  {
   "cell_type": "code",
   "execution_count": 3,
   "id": "1c38a865-542c-4290-82a8-446bf3c73f0a",
   "metadata": {},
   "outputs": [],
   "source": [
    "class embedding_CNN(nn.Module):\n",
    "    def __init__(self,n_user_features,n_item_features,user_df,item_df,dim=128):\n",
    "        super(embedding_CNN,self).__init__()\n",
    "        self.user_features = nn.Embedding(n_user_features,dim,max_norm=1)\n",
    "        self.item_features = nn.Embedding(n_item_features,dim,max_norm=1)\n",
    "\n",
    "        self.user_df = user_df\n",
    "        self.item_df = item_df\n",
    "        \n",
    "        total_neighbours = user_df.shape[1]+item_df.shape[1]\n",
    "        \n",
    "        self.Conv = nn.Conv1d(in_channels=total_neighbours,out_channels=1,kernel_size=3)\n",
    "\n",
    "        self.dense1 = self.dense_layer(dim-2,dim//2)\n",
    "        self.dense2 = self.dense_layer(dim//2,dim)\n",
    "        \n",
    "        self.sigmoid = nn.Sigmoid()\n",
    "\n",
    "    def dense_layer(self,in_features,out_features):\n",
    "        return nn.Sequential(\n",
    "            nn.Linear(in_features,out_features),\n",
    "            nn.Tanh()\n",
    "        )\n",
    "\n",
    "    def forward(self,u,i,isTrain=True):\n",
    "        user_ids = torch.LongTensor(self.user_df.loc[u].values)\n",
    "        item_ids = torch.LongTensor(self.item_df.loc[i].values)\n",
    "        user_features = self.user_features(user_ids)\n",
    "        item_features = self.item_features(item_ids)\n",
    "\n",
    "        uv = torch.cat([user_features,item_features],dim=1)\n",
    "\n",
    "        uv = self.Conv(uv)\n",
    "\n",
    "        uv = torch.squeeze(uv)\n",
    "\n",
    "        uv = self.dense1(uv)\n",
    "\n",
    "        uv = self.dense2(uv)\n",
    "\n",
    "        if isTrain:\n",
    "            uv = F.DropOut(uv)\n",
    "        uv = torch.squeeze(uv)\n",
    "        logit = self.sigmoid(uv)\n",
    "        return logit"
   ]
  },
  {
   "cell_type": "code",
   "execution_count": 7,
   "id": "39c25b75-b58f-4ca7-8a11-a10881a69d1e",
   "metadata": {},
   "outputs": [
    {
     "name": "stdout",
     "output_type": "stream",
     "text": [
      "输入大小: torch.Size([2, 1, 16])\n",
      "输出大小: torch.Size([2, 3, 14])\n"
     ]
    }
   ],
   "source": [
    "import torch\n",
    "import torch.nn as nn\n",
    "\n",
    "# 定义一维卷积层\n",
    "conv1d = nn.Conv1d(in_channels=1, out_channels=3, kernel_size=3)\n",
    "\n",
    "# 创建输入数据：批大小为2，通道数为1，序列长度为16\n",
    "x = torch.randn(2, 1, 16)\n",
    "\n",
    "# 执行卷积\n",
    "output = conv1d(x)\n",
    "\n",
    "print(\"输入大小:\", x.shape)        # [2, 1, 16]\n",
    "print(\"输出大小:\", output.shape)   # [2, 3, 16]  输出序列的长度取决于卷积参数"
   ]
  },
  {
   "cell_type": "code",
   "execution_count": null,
   "id": "dc0e2971-8aeb-4e82-a4ef-dcd1970be0f1",
   "metadata": {},
   "outputs": [],
   "source": []
  }
 ],
 "metadata": {
  "kernelspec": {
   "display_name": "Rec",
   "language": "python",
   "name": "rec"
  },
  "language_info": {
   "codemirror_mode": {
    "name": "ipython",
    "version": 3
   },
   "file_extension": ".py",
   "mimetype": "text/x-python",
   "name": "python",
   "nbconvert_exporter": "python",
   "pygments_lexer": "ipython3",
   "version": "3.9.20"
  }
 },
 "nbformat": 4,
 "nbformat_minor": 5
}
