{
 "cells": [
  {
   "cell_type": "code",
   "execution_count": 19,
   "id": "cb16efcb-eba7-40ee-b3ea-ee49c1eb6dab",
   "metadata": {},
   "outputs": [],
   "source": [
    "import torch\n",
    "import torch.nn as nn"
   ]
  },
  {
   "cell_type": "code",
   "execution_count": 21,
   "id": "87af55eb-423e-4fd5-ac41-7652d1c26014",
   "metadata": {},
   "outputs": [],
   "source": [
    "class RNN_rec(nn.Module):\n",
    "    def __init__(self,n_items,hidden_size=64,dim=128):\n",
    "        super(RNN_rec,self).__init__()\n",
    "        self.items = nn.Embedding(n_items,dim,max_norm=1)\n",
    "        self.rnn = nn.RNN(dim,hidden_size,batch_first=True)\n",
    "        self.dense = self.dense_layer(hidden_size,1)\n",
    "        self.sigmoid = nn.Sigmoid()\n",
    "\n",
    "    def dense_layer(self,in_features,out_features):\n",
    "        return nn.Sequential(\n",
    "            nn.Linear(in_features,out_features),\n",
    "            nn.Tanh()\n",
    "        )\n",
    "\n",
    "    def forward(self,x,isTrain = True):\n",
    "        item_embs = self.items(x)\n",
    "        _,h = self.rnn(item_embs)\n",
    "        h = torch.squeeze(h)\n",
    "        out = self.dense(h)\n",
    "        if isTrain:\n",
    "            out = F.DropOut(out)\n",
    "        out = torch.squeeze(out)\n",
    "        logit = self.sigmoid(out)\n",
    "        return logit"
   ]
  },
  {
   "cell_type": "code",
   "execution_count": null,
   "id": "06767195-c0bd-4fa5-851b-c01921c42f25",
   "metadata": {},
   "outputs": [],
   "source": []
  }
 ],
 "metadata": {
  "kernelspec": {
   "display_name": "Rec",
   "language": "python",
   "name": "rec"
  },
  "language_info": {
   "codemirror_mode": {
    "name": "ipython",
    "version": 3
   },
   "file_extension": ".py",
   "mimetype": "text/x-python",
   "name": "python",
   "nbconvert_exporter": "python",
   "pygments_lexer": "ipython3",
   "version": "3.9.20"
  }
 },
 "nbformat": 4,
 "nbformat_minor": 5
}
