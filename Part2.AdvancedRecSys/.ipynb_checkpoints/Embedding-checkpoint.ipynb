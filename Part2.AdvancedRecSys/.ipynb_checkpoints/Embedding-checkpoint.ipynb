{
 "cells": [
  {
   "cell_type": "code",
   "execution_count": 43,
   "id": "86658e66-e5ad-4788-98ce-29a07942cf94",
   "metadata": {},
   "outputs": [],
   "source": [
    "import torch\n",
    "import torch.nn as nn\n",
    "import torch.nn.functional as F\n",
    "import numpy as np\n",
    "import pandas as pd"
   ]
  },
  {
   "cell_type": "code",
   "execution_count": 7,
   "id": "f3b9539e-0168-4a49-99eb-49227c96aee9",
   "metadata": {},
   "outputs": [],
   "source": [
    "class embedding_mlp(nn.Module):\n",
    "    def __init__(self,n_user_features,n_item_features,user_df,item_df,dim=128):\n",
    "        super(embedding_mlp,self).__init__()\n",
    "        self.user_features = nn.Embedding(n_user_features,dim,max_norm=1)\n",
    "        self.item_features = nn.Embedding(n_item_features,dim,max_norm=1)\n",
    "\n",
    "        self.user_df = user_df\n",
    "        self.item_df = item_df\n",
    "\n",
    "\n",
    "        total_neighbours = user_df.shape[1]+item_df.shape[1]\n",
    "\n",
    "        self.dense1 = self.dense_layer(dim*total_neighbours,dim*total_neighbours//2)\n",
    "        self.dense2 = self.dense_layer(dim*total_neighbours//2,dim)\n",
    "        self.dense3 = self.dense_layer(dim,1)\n",
    "        self.sigmoid = nn.Sigmoid()\n",
    "\n",
    "    def dense_layer(self,in_features,out_features):\n",
    "        return nn.Sequential(\n",
    "            nn.Linear(in_features,out_features),\n",
    "            nn.Tanh()\n",
    "        )\n",
    "\n",
    "    def forward(self,u,i,isTrain=True):\n",
    "        user_ids = torch.LongTensor(self.user_df.loc[u].values)\n",
    "        item_ids = torch.LongTensor(self.item_df.loc[i].values)\n",
    "        user_features = self.user_features(user_ids)\n",
    "        item_features = self.item_features(item_ids)\n",
    "        "
   ]
  },
  {
   "cell_type": "code",
   "execution_count": 65,
   "id": "67e0be1d-6db1-48e5-b91f-3e9178e15c60",
   "metadata": {},
   "outputs": [],
   "source": [
    "# Parameters for dummy data\n",
    "n_users = 10\n",
    "n_items = 5\n",
    "user_feature_dim = 3\n",
    "item_feature_dim = 3\n",
    "\n",
    "# Randomly generate user and item feature indices (as categorical variables)\n",
    "user_data = np.random.randint(0, 20, size=(n_users, user_feature_dim))\n",
    "item_data = np.random.randint(0, 20, size=(n_items, item_feature_dim))\n",
    "\n",
    "# Convert to DataFrames\n",
    "user_df = pd.DataFrame(user_data)\n",
    "item_df = pd.DataFrame(item_data)"
   ]
  },
  {
   "cell_type": "code",
   "execution_count": 87,
   "id": "ca63c947-3ebd-4232-956d-e9cb81dcf830",
   "metadata": {},
   "outputs": [
    {
     "data": {
      "text/html": [
       "<div>\n",
       "<style scoped>\n",
       "    .dataframe tbody tr th:only-of-type {\n",
       "        vertical-align: middle;\n",
       "    }\n",
       "\n",
       "    .dataframe tbody tr th {\n",
       "        vertical-align: top;\n",
       "    }\n",
       "\n",
       "    .dataframe thead th {\n",
       "        text-align: right;\n",
       "    }\n",
       "</style>\n",
       "<table border=\"1\" class=\"dataframe\">\n",
       "  <thead>\n",
       "    <tr style=\"text-align: right;\">\n",
       "      <th></th>\n",
       "      <th>0</th>\n",
       "      <th>1</th>\n",
       "      <th>2</th>\n",
       "    </tr>\n",
       "  </thead>\n",
       "  <tbody>\n",
       "    <tr>\n",
       "      <th>0</th>\n",
       "      <td>19</td>\n",
       "      <td>0</td>\n",
       "      <td>10</td>\n",
       "    </tr>\n",
       "    <tr>\n",
       "      <th>1</th>\n",
       "      <td>1</td>\n",
       "      <td>19</td>\n",
       "      <td>5</td>\n",
       "    </tr>\n",
       "    <tr>\n",
       "      <th>2</th>\n",
       "      <td>12</td>\n",
       "      <td>8</td>\n",
       "      <td>7</td>\n",
       "    </tr>\n",
       "    <tr>\n",
       "      <th>3</th>\n",
       "      <td>7</td>\n",
       "      <td>5</td>\n",
       "      <td>17</td>\n",
       "    </tr>\n",
       "    <tr>\n",
       "      <th>4</th>\n",
       "      <td>7</td>\n",
       "      <td>1</td>\n",
       "      <td>3</td>\n",
       "    </tr>\n",
       "    <tr>\n",
       "      <th>5</th>\n",
       "      <td>5</td>\n",
       "      <td>13</td>\n",
       "      <td>1</td>\n",
       "    </tr>\n",
       "    <tr>\n",
       "      <th>6</th>\n",
       "      <td>10</td>\n",
       "      <td>12</td>\n",
       "      <td>0</td>\n",
       "    </tr>\n",
       "    <tr>\n",
       "      <th>7</th>\n",
       "      <td>14</td>\n",
       "      <td>5</td>\n",
       "      <td>3</td>\n",
       "    </tr>\n",
       "    <tr>\n",
       "      <th>8</th>\n",
       "      <td>5</td>\n",
       "      <td>11</td>\n",
       "      <td>13</td>\n",
       "    </tr>\n",
       "    <tr>\n",
       "      <th>9</th>\n",
       "      <td>12</td>\n",
       "      <td>12</td>\n",
       "      <td>18</td>\n",
       "    </tr>\n",
       "  </tbody>\n",
       "</table>\n",
       "</div>"
      ],
      "text/plain": [
       "    0   1   2\n",
       "0  19   0  10\n",
       "1   1  19   5\n",
       "2  12   8   7\n",
       "3   7   5  17\n",
       "4   7   1   3\n",
       "5   5  13   1\n",
       "6  10  12   0\n",
       "7  14   5   3\n",
       "8   5  11  13\n",
       "9  12  12  18"
      ]
     },
     "execution_count": 87,
     "metadata": {},
     "output_type": "execute_result"
    }
   ],
   "source": [
    "user_df"
   ]
  },
  {
   "cell_type": "code",
   "execution_count": 89,
   "id": "25211ab9-05ee-47d7-8aac-4711a2289e2f",
   "metadata": {},
   "outputs": [
    {
     "data": {
      "text/plain": [
       "0    19\n",
       "1    19\n",
       "2    18\n",
       "dtype: int32"
      ]
     },
     "execution_count": 89,
     "metadata": {},
     "output_type": "execute_result"
    }
   ],
   "source": [
    "user_df.max()"
   ]
  },
  {
   "cell_type": "code",
   "execution_count": 77,
   "id": "bd991ce4-622e-42c4-8977-25199fb62f02",
   "metadata": {},
   "outputs": [
    {
     "data": {
      "text/plain": [
       "tensor([[ 1, 19,  5],\n",
       "        [12,  8,  7],\n",
       "        [ 7,  5, 17],\n",
       "        [ 7,  1,  3]])"
      ]
     },
     "execution_count": 77,
     "metadata": {},
     "output_type": "execute_result"
    }
   ],
   "source": [
    "user_ids = torch.LongTensor(user_df.loc[[1,2,3,4]].values)\n",
    "user_ids"
   ]
  },
  {
   "cell_type": "code",
   "execution_count": 91,
   "id": "949b8dff-31cf-408e-be67-26d2a4a0c620",
   "metadata": {},
   "outputs": [
    {
     "data": {
      "text/plain": [
       "Parameter containing:\n",
       "tensor([[-1.0739e+00,  1.5029e+00, -1.2530e+00, -1.4114e+00,  1.2219e+00,\n",
       "          7.5228e-01, -1.0419e+00,  2.0159e-01,  5.3380e-02,  3.1968e-01,\n",
       "          8.5862e-01,  9.8578e-01, -7.3564e-01,  4.2666e-01, -1.1613e+00,\n",
       "         -5.7459e-01],\n",
       "        [ 8.2157e-01, -3.6732e-01, -2.6077e-01, -6.5932e-01,  1.6045e-01,\n",
       "          1.3455e-01, -1.0226e-01, -2.3012e+00,  2.1843e-01,  6.3408e-01,\n",
       "         -2.0700e-01,  1.8329e+00, -7.9307e-01, -1.0077e+00, -7.3970e-01,\n",
       "         -2.1703e+00],\n",
       "        [ 8.8870e-01, -1.7709e+00,  5.8696e-02,  9.3672e-01, -1.0089e+00,\n",
       "          9.4327e-01, -3.6098e-01,  4.7041e-01,  5.6185e-01, -1.3287e+00,\n",
       "         -3.4539e-01,  1.6075e-01,  3.3532e-01,  1.4508e-01,  8.6707e-01,\n",
       "         -1.1495e+00],\n",
       "        [-6.8123e-01,  5.9351e-01,  8.4826e-01,  6.2553e-01,  1.0995e+00,\n",
       "          3.7872e-01,  7.1568e-01, -5.2621e-01, -9.2566e-01,  8.0048e-01,\n",
       "         -6.2965e-02,  1.6095e+00,  4.8405e-02, -1.7803e+00, -8.3067e-01,\n",
       "         -2.4966e+00],\n",
       "        [-2.6921e+00,  7.5988e-02,  5.6311e-01,  3.8120e-01, -1.8721e+00,\n",
       "         -3.1396e+00, -6.1135e-02, -2.6001e-01, -5.7014e-01, -6.0385e-01,\n",
       "          6.7631e-01, -3.1782e-01, -1.6417e+00,  5.6221e-02,  2.0859e-01,\n",
       "          1.0613e+00],\n",
       "        [ 1.0332e+00, -8.3145e-02, -4.8254e-01,  4.7049e-01, -5.8455e-01,\n",
       "         -9.4549e-01,  5.0348e-01, -1.1526e+00, -1.1384e-03,  7.8224e-01,\n",
       "         -1.0540e+00,  1.6742e+00,  1.3787e+00, -3.9070e-01, -5.9681e-01,\n",
       "         -6.7689e-01],\n",
       "        [ 1.0498e+00,  5.5528e-03, -6.4181e-01,  1.0623e+00, -2.2202e+00,\n",
       "         -4.5318e-01,  3.2106e-01,  8.1185e-01,  1.9434e-01, -3.6224e-01,\n",
       "          7.8490e-02, -6.2405e-01,  1.0786e+00,  4.1018e-01,  1.6728e+00,\n",
       "         -5.0131e-01],\n",
       "        [ 1.9301e+00,  8.3469e-01,  1.3195e+00, -1.5275e+00, -1.7474e-01,\n",
       "          1.3722e-01, -1.1502e+00, -5.0178e-01, -1.1448e+00,  3.5005e-01,\n",
       "          5.1765e-01,  2.4067e+00,  9.9978e-02, -1.9057e+00, -8.5080e-01,\n",
       "          1.2284e+00],\n",
       "        [-1.9313e-01,  4.1987e-01,  5.3006e-01,  1.3755e-03, -4.3765e-01,\n",
       "         -4.7809e-01, -2.1922e+00, -1.2477e+00, -1.6419e+00,  5.2793e-01,\n",
       "         -8.0558e-01, -7.6052e-01,  1.0052e+00,  7.3679e-01,  9.4594e-02,\n",
       "          7.1529e-01],\n",
       "        [-3.5184e-01, -6.9723e-01, -5.3808e-01,  6.6781e-01,  7.2353e-01,\n",
       "          1.1242e+00, -4.3357e-01, -1.4559e+00,  7.6423e-01,  1.2733e-01,\n",
       "         -9.7176e-01,  4.3585e-01, -6.2003e-01, -8.7995e-01, -5.7714e-01,\n",
       "         -5.6061e-01],\n",
       "        [ 1.9972e-01, -1.3806e+00, -4.5004e-01, -3.7410e-02,  2.0221e+00,\n",
       "         -7.5350e-01,  1.5048e-01,  4.9646e-01,  1.6192e-01, -1.2467e+00,\n",
       "         -3.3466e+00,  1.5715e+00, -5.8606e-01, -6.8424e-01, -7.3928e-02,\n",
       "         -4.7660e-01],\n",
       "        [ 8.8404e-02, -1.2170e+00,  2.5053e-01,  1.5743e+00, -5.7685e-01,\n",
       "         -7.2022e-01,  1.7714e-01,  1.0735e+00,  2.2191e+00,  8.7770e-01,\n",
       "          9.5648e-01, -1.1899e-01, -6.5420e-01, -8.6311e-01, -9.7485e-02,\n",
       "          1.4145e+00],\n",
       "        [ 3.6390e-01,  3.0179e-01, -6.0302e-02,  5.6674e-01, -1.2031e+00,\n",
       "          1.5262e+00, -2.9764e-01,  6.5756e-01,  2.6207e-01,  1.5322e+00,\n",
       "         -3.8478e-01,  9.4513e-01,  2.3337e-01, -1.6469e+00, -9.4261e-01,\n",
       "          5.6095e-01],\n",
       "        [ 1.8365e-01,  1.7292e+00,  1.2251e+00, -1.2805e+00,  3.0232e-01,\n",
       "         -1.1256e+00,  2.4433e-01,  1.3123e+00,  2.1016e-01,  9.7519e-01,\n",
       "         -1.4141e+00, -5.7991e-01,  1.0627e+00,  2.3313e+00,  1.3354e+00,\n",
       "          6.4206e-01],\n",
       "        [ 3.1057e-01,  2.3077e+00, -1.3713e+00,  7.4349e-01,  1.7474e-01,\n",
       "          2.8060e-01, -7.7320e-01,  5.5990e-01,  1.1684e+00,  1.8823e+00,\n",
       "         -7.5379e-01,  1.0526e-01,  1.6334e+00, -2.1620e+00,  1.6086e+00,\n",
       "          3.7840e-01],\n",
       "        [ 8.3897e-01, -5.1431e-02,  1.8668e+00, -3.1004e-01,  2.1015e+00,\n",
       "         -7.3936e-01,  6.1117e-01,  1.1933e+00, -1.0177e+00, -1.7296e-01,\n",
       "          7.3594e-02,  6.4390e-01,  1.8093e+00, -1.6153e+00, -2.9737e-02,\n",
       "         -9.4005e-01],\n",
       "        [-5.6218e-01, -1.3433e+00,  2.1557e+00,  1.3689e+00,  1.2782e-02,\n",
       "          2.4935e-01, -9.9168e-01,  1.7327e-01, -1.3609e+00,  1.0358e+00,\n",
       "         -1.3269e-01, -2.4448e-01,  4.8540e-01, -1.5124e+00, -6.2214e-02,\n",
       "          1.3336e+00],\n",
       "        [-3.1311e-01, -1.0597e+00,  2.4036e-01,  7.1115e-01,  7.0692e-01,\n",
       "         -8.5417e-01,  6.6893e-01,  1.0395e+00,  1.8771e+00,  1.0698e+00,\n",
       "         -1.0219e+00,  1.2766e+00,  4.7588e-01,  2.2219e+00,  2.6951e-01,\n",
       "         -9.0178e-01],\n",
       "        [-7.7724e-01, -8.0499e-01,  9.7055e-01, -1.8370e+00,  2.0120e-01,\n",
       "         -1.5594e+00, -4.5064e-01,  3.4905e-02,  1.8638e-01, -1.0204e+00,\n",
       "          1.6848e+00, -6.4013e-01, -8.2963e-03, -4.4551e-01,  1.1537e+00,\n",
       "         -1.1760e+00],\n",
       "        [-2.6993e-01,  2.4258e-01,  3.9864e-01, -1.4201e+00, -5.5955e-01,\n",
       "         -5.8113e-01,  5.1667e-01, -9.9311e-01, -9.0247e-01,  3.6244e-01,\n",
       "         -1.0903e-01,  2.3050e-01,  9.1579e-01, -7.0312e-01,  5.1744e-01,\n",
       "          1.1716e+00]], requires_grad=True)"
      ]
     },
     "execution_count": 91,
     "metadata": {},
     "output_type": "execute_result"
    }
   ],
   "source": [
    "emb = nn.Embedding(20,dim)\n",
    "emb.weight"
   ]
  },
  {
   "cell_type": "code",
   "execution_count": 105,
   "id": "85e5187a-bb98-4bd6-adcc-759a399e2f2c",
   "metadata": {},
   "outputs": [
    {
     "data": {
      "text/plain": [
       "tensor([[1, 1, 3, 3, 0]])"
      ]
     },
     "execution_count": 105,
     "metadata": {},
     "output_type": "execute_result"
    }
   ],
   "source": [
    "user_ids = torch.LongTensor(np.random.randint(0, 4, size=(1, 5)))\n",
    "user_ids"
   ]
  },
  {
   "cell_type": "code",
   "execution_count": 111,
   "id": "0e923cb1-4f7b-4e49-9b67-5d3397732441",
   "metadata": {},
   "outputs": [
    {
     "data": {
      "text/plain": [
       "tensor([[[ 0.8216, -0.3673, -0.2608, -0.6593,  0.1605,  0.1346, -0.1023,\n",
       "          -2.3012,  0.2184,  0.6341, -0.2070,  1.8329, -0.7931, -1.0077,\n",
       "          -0.7397, -2.1703],\n",
       "         [ 0.8216, -0.3673, -0.2608, -0.6593,  0.1605,  0.1346, -0.1023,\n",
       "          -2.3012,  0.2184,  0.6341, -0.2070,  1.8329, -0.7931, -1.0077,\n",
       "          -0.7397, -2.1703],\n",
       "         [-0.6812,  0.5935,  0.8483,  0.6255,  1.0995,  0.3787,  0.7157,\n",
       "          -0.5262, -0.9257,  0.8005, -0.0630,  1.6095,  0.0484, -1.7803,\n",
       "          -0.8307, -2.4966],\n",
       "         [-0.6812,  0.5935,  0.8483,  0.6255,  1.0995,  0.3787,  0.7157,\n",
       "          -0.5262, -0.9257,  0.8005, -0.0630,  1.6095,  0.0484, -1.7803,\n",
       "          -0.8307, -2.4966],\n",
       "         [-1.0739,  1.5029, -1.2530, -1.4114,  1.2219,  0.7523, -1.0419,\n",
       "           0.2016,  0.0534,  0.3197,  0.8586,  0.9858, -0.7356,  0.4267,\n",
       "          -1.1613, -0.5746]]], grad_fn=<EmbeddingBackward0>)"
      ]
     },
     "execution_count": 111,
     "metadata": {},
     "output_type": "execute_result"
    }
   ],
   "source": [
    "emb1 = emb(user_ids)\n",
    "emb1"
   ]
  },
  {
   "cell_type": "code",
   "execution_count": 115,
   "id": "b1a6bb82-b391-418a-a22b-b680031593ed",
   "metadata": {},
   "outputs": [
    {
     "data": {
      "text/plain": [
       "torch.Size([1, 5, 16])"
      ]
     },
     "execution_count": 115,
     "metadata": {},
     "output_type": "execute_result"
    }
   ],
   "source": [
    "emb2 = emb(user_ids)\n",
    "emb2.shape"
   ]
  },
  {
   "cell_type": "code",
   "execution_count": 121,
   "id": "782aef9e-74e9-4c3e-9a34-acbd59d163a2",
   "metadata": {},
   "outputs": [
    {
     "data": {
      "text/plain": [
       "tensor([[[ 0.8216, -0.3673, -0.2608, -0.6593,  0.1605,  0.1346, -0.1023,\n",
       "          -2.3012,  0.2184,  0.6341, -0.2070,  1.8329, -0.7931, -1.0077,\n",
       "          -0.7397, -2.1703],\n",
       "         [ 0.8216, -0.3673, -0.2608, -0.6593,  0.1605,  0.1346, -0.1023,\n",
       "          -2.3012,  0.2184,  0.6341, -0.2070,  1.8329, -0.7931, -1.0077,\n",
       "          -0.7397, -2.1703],\n",
       "         [-0.6812,  0.5935,  0.8483,  0.6255,  1.0995,  0.3787,  0.7157,\n",
       "          -0.5262, -0.9257,  0.8005, -0.0630,  1.6095,  0.0484, -1.7803,\n",
       "          -0.8307, -2.4966],\n",
       "         [-0.6812,  0.5935,  0.8483,  0.6255,  1.0995,  0.3787,  0.7157,\n",
       "          -0.5262, -0.9257,  0.8005, -0.0630,  1.6095,  0.0484, -1.7803,\n",
       "          -0.8307, -2.4966],\n",
       "         [-1.0739,  1.5029, -1.2530, -1.4114,  1.2219,  0.7523, -1.0419,\n",
       "           0.2016,  0.0534,  0.3197,  0.8586,  0.9858, -0.7356,  0.4267,\n",
       "          -1.1613, -0.5746]],\n",
       "\n",
       "        [[ 0.8216, -0.3673, -0.2608, -0.6593,  0.1605,  0.1346, -0.1023,\n",
       "          -2.3012,  0.2184,  0.6341, -0.2070,  1.8329, -0.7931, -1.0077,\n",
       "          -0.7397, -2.1703],\n",
       "         [ 0.8216, -0.3673, -0.2608, -0.6593,  0.1605,  0.1346, -0.1023,\n",
       "          -2.3012,  0.2184,  0.6341, -0.2070,  1.8329, -0.7931, -1.0077,\n",
       "          -0.7397, -2.1703],\n",
       "         [-0.6812,  0.5935,  0.8483,  0.6255,  1.0995,  0.3787,  0.7157,\n",
       "          -0.5262, -0.9257,  0.8005, -0.0630,  1.6095,  0.0484, -1.7803,\n",
       "          -0.8307, -2.4966],\n",
       "         [-0.6812,  0.5935,  0.8483,  0.6255,  1.0995,  0.3787,  0.7157,\n",
       "          -0.5262, -0.9257,  0.8005, -0.0630,  1.6095,  0.0484, -1.7803,\n",
       "          -0.8307, -2.4966],\n",
       "         [-1.0739,  1.5029, -1.2530, -1.4114,  1.2219,  0.7523, -1.0419,\n",
       "           0.2016,  0.0534,  0.3197,  0.8586,  0.9858, -0.7356,  0.4267,\n",
       "          -1.1613, -0.5746]]], grad_fn=<CatBackward0>)"
      ]
     },
     "execution_count": 121,
     "metadata": {},
     "output_type": "execute_result"
    }
   ],
   "source": [
    "torch.cat([emb1,emb2],dim=0)"
   ]
  },
  {
   "cell_type": "code",
   "execution_count": null,
   "id": "252fb8ee-d92f-49fd-aa98-07a2db6c95a7",
   "metadata": {},
   "outputs": [],
   "source": []
  }
 ],
 "metadata": {
  "kernelspec": {
   "display_name": "Rec",
   "language": "python",
   "name": "rec"
  },
  "language_info": {
   "codemirror_mode": {
    "name": "ipython",
    "version": 3
   },
   "file_extension": ".py",
   "mimetype": "text/x-python",
   "name": "python",
   "nbconvert_exporter": "python",
   "pygments_lexer": "ipython3",
   "version": "3.9.20"
  }
 },
 "nbformat": 4,
 "nbformat_minor": 5
}
