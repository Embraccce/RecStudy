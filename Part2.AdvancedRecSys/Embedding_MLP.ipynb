{
 "cells": [
  {
   "cell_type": "code",
   "execution_count": 1,
   "id": "86658e66-e5ad-4788-98ce-29a07942cf94",
   "metadata": {},
   "outputs": [],
   "source": [
    "import torch\n",
    "import torch.nn as nn\n",
    "import torch.nn.functional as F\n",
    "import numpy as np\n",
    "import pandas as pd"
   ]
  },
  {
   "cell_type": "code",
   "execution_count": 3,
   "id": "f3b9539e-0168-4a49-99eb-49227c96aee9",
   "metadata": {},
   "outputs": [],
   "source": [
    "class embedding_mlp(nn.Module):\n",
    "    def __init__(self,n_user_features,n_item_features,user_df,item_df,dim=128):\n",
    "        super(embedding_mlp,self).__init__()\n",
    "        self.user_features = nn.Embedding(n_user_features,dim,max_norm=1)\n",
    "        self.item_features = nn.Embedding(n_item_features,dim,max_norm=1)\n",
    "\n",
    "        self.user_df = user_df\n",
    "        self.item_df = item_df\n",
    "\n",
    "\n",
    "        total_neighbours = user_df.shape[1]+item_df.shape[1]\n",
    "\n",
    "        self.dense1 = self.dense_layer(dim*total_neighbours,dim*total_neighbours//2)\n",
    "        self.dense2 = self.dense_layer(dim*total_neighbours//2,dim)\n",
    "        self.dense3 = self.dense_layer(dim,1)\n",
    "        self.sigmoid = nn.Sigmoid()\n",
    "\n",
    "    def dense_layer(self,in_features,out_features):\n",
    "        return nn.Sequential(\n",
    "            nn.Linear(in_features,out_features),\n",
    "            nn.Tanh()\n",
    "        )\n",
    "\n",
    "    def forward(self,u,i,isTrain=True):\n",
    "        user_ids = torch.LongTensor(self.user_df.loc[u].values)\n",
    "        item_ids = torch.LongTensor(self.item_df.loc[i].values)\n",
    "        user_features = self.user_features(user_ids)\n",
    "        item_features = self.item_features(item_ids)\n",
    "\n",
    "        uv = torch.cat([user_features,item_features],dim=1)\n",
    "\n",
    "        uv = reshape(len(u),-1)\n",
    "\n",
    "        uv = self.dense1(uv)\n",
    "\n",
    "        uv = self.dense2(uv)\n",
    "\n",
    "        uv = self.dense3(uv)\n",
    "\n",
    "        if isTrain:\n",
    "            uv = F.DropOut(uv)\n",
    "        uv = torch.squeeze(uv)\n",
    "        logit = self.sigmoid(uv)\n",
    "        return logit"
   ]
  },
  {
   "cell_type": "code",
   "execution_count": null,
   "id": "252fb8ee-d92f-49fd-aa98-07a2db6c95a7",
   "metadata": {},
   "outputs": [],
   "source": []
  }
 ],
 "metadata": {
  "kernelspec": {
   "display_name": "Rec",
   "language": "python",
   "name": "rec"
  },
  "language_info": {
   "codemirror_mode": {
    "name": "ipython",
    "version": 3
   },
   "file_extension": ".py",
   "mimetype": "text/x-python",
   "name": "python",
   "nbconvert_exporter": "python",
   "pygments_lexer": "ipython3",
   "version": "3.9.20"
  }
 },
 "nbformat": 4,
 "nbformat_minor": 5
}
