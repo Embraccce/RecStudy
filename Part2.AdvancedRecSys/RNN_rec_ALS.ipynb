{
 "cells": [
  {
   "cell_type": "code",
   "execution_count": 5,
   "id": "e6f8804f-d162-483b-8815-2396087f4295",
   "metadata": {},
   "outputs": [],
   "source": [
    "import torch\n",
    "import torch.nn as nn"
   ]
  },
  {
   "cell_type": "code",
   "execution_count": 7,
   "id": "ee73bdb6-1369-4d2f-98fc-8ab4bfbecb65",
   "metadata": {},
   "outputs": [],
   "source": [
    "class RNN_ALS_rec(nn.Module):\n",
    "    def __init__(self,n_items,dim=128):\n",
    "        super(RNN_ALS_rec,self).__init__()\n",
    "        self.items = nn.Embedding(n_items,dim,max_norm=1)\n",
    "        self.rnn = nn.RNN(dim,dim,batch_first=True)\n",
    "        self.sigmoid = nn.Sigmoid()\n",
    "\n",
    "    def forward(self,x,item):\n",
    "        item_embs = self.items(x)\n",
    "        _,h = self.rnn(item_embs)\n",
    "        h = torch.squeeze(h)\n",
    "        one_item = self.items(item)\n",
    "        out = torch.sum(h*one_item,dim=1)\n",
    "        logit = self.sigmoid(out)\n",
    "        return logit"
   ]
  },
  {
   "cell_type": "code",
   "execution_count": null,
   "id": "71a9bacf-ac8e-470d-bc78-98765c0025a8",
   "metadata": {},
   "outputs": [],
   "source": []
  }
 ],
 "metadata": {
  "kernelspec": {
   "display_name": "Rec",
   "language": "python",
   "name": "rec"
  },
  "language_info": {
   "codemirror_mode": {
    "name": "ipython",
    "version": 3
   },
   "file_extension": ".py",
   "mimetype": "text/x-python",
   "name": "python",
   "nbconvert_exporter": "python",
   "pygments_lexer": "ipython3",
   "version": "3.9.20"
  }
 },
 "nbformat": 4,
 "nbformat_minor": 5
}
