{
 "cells": [
  {
   "cell_type": "code",
   "execution_count": 1,
   "id": "ecfa9737-37de-48ea-8b2b-f9cf34c3820d",
   "metadata": {},
   "outputs": [],
   "source": [
    "import torch\n",
    "import torch.nn as nn"
   ]
  },
  {
   "cell_type": "code",
   "execution_count": 7,
   "id": "15a8633a-f38a-4fc1-a54b-eaefafb425fe",
   "metadata": {},
   "outputs": [],
   "source": [
    "class FNN_plus(nn.Module):\n",
    "    def __init__(self,n_features,dim=128):\n",
    "        super(FNN_plus,self).__init__()\n",
    "        self.features = nn.Embedding(n_features,dim,max_norm=1)\n",
    "        self.mlp_layer = self.__mlp(dim)\n",
    "\n",
    "    def __mlp(self,dim):\n",
    "        return nn.Sequential(\n",
    "            nn.Linear(dim,dim//2),\n",
    "            nn.Tanh(),\n",
    "            nn.Linear(dim//2,dim//4),\n",
    "            nn.Tanh(),\n",
    "            nn.Linear(dim//4,1),\n",
    "            nn.Sigmoid()\n",
    "        )\n",
    "\n",
    "    def FMaggregator(self,feature_embs):\n",
    "        square_of_sum = torch.sum(feature_embs,dim=1)**2\n",
    "        sum_of_square = torch.sum(feature_embs**2,dim=1)\n",
    "        output = square_of_sum - sum_of_square\n",
    "        return output\n",
    "\n",
    "    def __getAllFeatures(self,u,i,user_df,item_df):\n",
    "        users = torch.LongTensor(user_df.loc[u].values)\n",
    "        items = torch.LongTensor(item_df.loc[i].values)\n",
    "        total = torch.cat([users,items],dim=1)\n",
    "        return total\n",
    "\n",
    "    def forward(self,u,i,user_df,item_df):\n",
    "        all_feature_index = self.__getAllFeatures(u,i,user_df,item_df)\n",
    "        all_feature_embs = self.features(all_feature_index)\n",
    "        out = self.FMaggregator(all_feature_embs)\n",
    "        out = self.mlp_layer(out)\n",
    "        out = torch.squeeze()\n",
    "        return out"
   ]
  },
  {
   "cell_type": "code",
   "execution_count": null,
   "id": "d218b3d2-2fc2-4a26-ba7b-f9fd6ea59752",
   "metadata": {},
   "outputs": [],
   "source": []
  }
 ],
 "metadata": {
  "kernelspec": {
   "display_name": "Rec",
   "language": "python",
   "name": "rec"
  },
  "language_info": {
   "codemirror_mode": {
    "name": "ipython",
    "version": 3
   },
   "file_extension": ".py",
   "mimetype": "text/x-python",
   "name": "python",
   "nbconvert_exporter": "python",
   "pygments_lexer": "ipython3",
   "version": "3.9.20"
  }
 },
 "nbformat": 4,
 "nbformat_minor": 5
}
