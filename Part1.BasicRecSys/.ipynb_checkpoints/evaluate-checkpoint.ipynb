{
 "cells": [
  {
   "cell_type": "code",
   "execution_count": 2,
   "id": "8f49fb92-8d6d-4973-a797-26eb237d3a9f",
   "metadata": {},
   "outputs": [],
   "source": [
    "import numpy as np"
   ]
  },
  {
   "cell_type": "markdown",
   "id": "70b47388-65a8-4372-8201-b740a2dab7de",
   "metadata": {},
   "source": [
    "### 1. 均方误差 (MSE)\r\n",
    "\r\n",
    "$$\r\n",
    "\\text{MSE} = \\frac{1}{|A|} \\sum_{(u,i) \\in A} (r_{ui} - \\hat{r_{ui}})^2\r\n",
    "$$\r\n",
    "\r\n",
    "其中：\r\n",
    "\r\n",
    "- $|A|$ 表示评分矩阵中实际评分的数量。\r\n",
    "- $r_{ui}$ 表示用户 `u` 对物品 `i` 的实际评分。\r\n",
    "- $\\hat{r_{ui}}$ MAE 是实际评分和预测评分的绝对误差的平均值。\r\n",
    "\r\n",
    "\n",
    "\r\n",
    "MAE 是实际评分和预测评分的绝对误差的平均值。"
   ]
  },
  {
   "cell_type": "code",
   "execution_count": 18,
   "id": "99542366-a283-4140-9f9b-c97df07eec8a",
   "metadata": {},
   "outputs": [],
   "source": [
    "def MSE(y_true, y_pred):\n",
    "    return np.mean((np.array(y_true) - np.array(y_pred)) ** 2)"
   ]
  },
  {
   "cell_type": "markdown",
   "id": "86aca8a1-6462-4856-aba8-93fc4dfb65e5",
   "metadata": {},
   "source": [
    "### 2. 均方根误差 (RMSE)\n",
    "\n",
    "$$\n",
    "\\text{RMSE} = \\sqrt{\\frac{1}{|A|} \\sum_{(u,i) \\in A} (r_{ui} - \\hat{r_{ui}})^2}\n",
    "$$\n",
    "\n",
    "RMSE 是 MSE 的平方根，用于保留与原评分尺度相同的单位。"
   ]
  },
  {
   "cell_type": "code",
   "execution_count": 21,
   "id": "8375cd64-ddac-4bf4-bd17-099d644074bc",
   "metadata": {},
   "outputs": [],
   "source": [
    "def RMSE(y_true, y_pred):\n",
    "    return MSE(y_true, y_pred) ** 0.5"
   ]
  },
  {
   "cell_type": "markdown",
   "id": "0eb2cba5-e447-4a88-a769-5ce52ceeb1b1",
   "metadata": {},
   "source": [
    "### 3. 平均绝对误差 (MAE)\n",
    "\n",
    "$$\n",
    "\\text{MAE} = \\frac{1}{|A|} \\sum_{(u,i) \\in A} |r_{ui} - \\hat{r_{ui}}|\n",
    "$$\n",
    "\n",
    "MAE 是实际评分和预测评分的绝对误差的平均值。"
   ]
  },
  {
   "cell_type": "code",
   "execution_count": 29,
   "id": "a7beb42a-f132-4476-b529-389c00d50da2",
   "metadata": {},
   "outputs": [],
   "source": [
    "def MAE(y_true, y_pred):\n",
    "    return np.mean(np.abs(np.array(y_true) - np.array(y_pred)))"
   ]
  }
 ],
 "metadata": {
  "kernelspec": {
   "display_name": "Python 3 (ipykernel)",
   "language": "python",
   "name": "python3"
  },
  "language_info": {
   "codemirror_mode": {
    "name": "ipython",
    "version": 3
   },
   "file_extension": ".py",
   "mimetype": "text/x-python",
   "name": "python",
   "nbconvert_exporter": "python",
   "pygments_lexer": "ipython3",
   "version": "3.11.7"
  }
 },
 "nbformat": 4,
 "nbformat_minor": 5
}
