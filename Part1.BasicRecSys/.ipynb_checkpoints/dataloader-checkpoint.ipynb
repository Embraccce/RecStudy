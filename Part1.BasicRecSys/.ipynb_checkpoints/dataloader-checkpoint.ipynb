{
 "cells": [
  {
   "cell_type": "code",
   "execution_count": 2,
   "id": "a7cfb9b6-fccc-4530-818d-1145e90014c2",
   "metadata": {},
   "outputs": [],
   "source": [
    "import collections"
   ]
  },
  {
   "cell_type": "code",
   "execution_count": 6,
   "id": "6346c337-c92d-4f6c-b103-f326257f5d39",
   "metadata": {},
   "outputs": [],
   "source": [
    "def getSet(triples):\n",
    "    user_pos_items = collections.defaultdict(set)\n",
    "    user_neg_items = collections.defaultdict(set)\n",
    "    user_all_items = collections.defaultdict(set)\n",
    "    item_users = collections.defaultdict(set)\n",
    "    for u,i,r in triples:\n",
    "        user_all_items[u].add(i)\n",
    "        item_users[i].add(u)\n",
    "        if r == 1:\n",
    "            user_pos_items[u].add(i)\n",
    "            item_users[i].add(u)\n",
    "        else:\n",
    "            user_neg_items[u].add(i)\n",
    "    return user_pos_items,item_users,user_neg_items,user_all_items"
   ]
  },
  {
   "cell_type": "code",
   "execution_count": null,
   "id": "0ac0a136-7b17-4768-83f3-577927956847",
   "metadata": {},
   "outputs": [],
   "source": []
  }
 ],
 "metadata": {
  "kernelspec": {
   "display_name": "Python 3 (ipykernel)",
   "language": "python",
   "name": "python3"
  },
  "language_info": {
   "codemirror_mode": {
    "name": "ipython",
    "version": 3
   },
   "file_extension": ".py",
   "mimetype": "text/x-python",
   "name": "python",
   "nbconvert_exporter": "python",
   "pygments_lexer": "ipython3",
   "version": "3.11.7"
  }
 },
 "nbformat": 4,
 "nbformat_minor": 5
}
