{
 "cells": [
  {
   "cell_type": "code",
   "execution_count": 3,
   "id": "f4cc2713-fc6b-4278-a32c-3a14386173f9",
   "metadata": {},
   "outputs": [],
   "source": [
    "import torch\n",
    "import torch.nn as nn"
   ]
  },
  {
   "cell_type": "code",
   "execution_count": 55,
   "id": "9fd132de-b577-4f28-8692-f936c3914bfb",
   "metadata": {},
   "outputs": [],
   "source": [
    "class LR(nn.Module):\n",
    "    def __init__(self, n_features):\n",
    "        super(LR, self).__init__()\n",
    "        self.b = nn.init.xavier_normal_(nn.Parameter(torch.empty(1,1)))\n",
    "        self.w = nn.init.xavier_normal_(nn.Parameter(torch.empty(n_features,1)))\n",
    "    def forward(self, x):        \n",
    "        logits = torch.sigmoid(torch.matmal(x,self.w)+self.b)\n",
    "        return logits"
   ]
  },
  {
   "cell_type": "code",
   "execution_count": null,
   "id": "3d792eca-c802-4792-b3b1-977846d8e39f",
   "metadata": {},
   "outputs": [],
   "source": []
  }
 ],
 "metadata": {
  "kernelspec": {
   "display_name": "Rec",
   "language": "python",
   "name": "rec"
  },
  "language_info": {
   "codemirror_mode": {
    "name": "ipython",
    "version": 3
   },
   "file_extension": ".py",
   "mimetype": "text/x-python",
   "name": "python",
   "nbconvert_exporter": "python",
   "pygments_lexer": "ipython3",
   "version": "3.9.20"
  }
 },
 "nbformat": 4,
 "nbformat_minor": 5
}
