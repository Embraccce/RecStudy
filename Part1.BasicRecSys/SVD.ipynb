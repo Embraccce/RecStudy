{
 "cells": [
  {
   "cell_type": "code",
   "execution_count": 33,
   "id": "64ff0f47-766a-4bff-b534-aebb0591d686",
   "metadata": {},
   "outputs": [],
   "source": [
    "import numpy as np"
   ]
  },
  {
   "cell_type": "markdown",
   "id": "c408c8ea-83c7-4c4f-89f8-8809e459fdaa",
   "metadata": {},
   "source": [
    "### 1. SVD矩阵分解\n",
    "\n",
    "在 Python 中，`numpy` 提供了简单的方法来进行 SVD（奇异值分解），可以使用 `numpy.linalg.svd` 函数。SVD 将一个矩阵分解为三个矩阵的乘积：\r\n",
    "\r\n",
    "$$ \r\n",
    "A = U \\Sigma V^T \r\n",
    "$$\r\n",
    "\r\n",
    "其中：\r\n",
    "- $ A $ 是原始矩阵，\r\n",
    "- $ U $ 是一个正交矩阵，包含了左奇异向量，\r\n",
    "- $ \\Sigma $ 是一个对角矩阵，包含了奇异值，\r\n",
    "- $ V^T $ 是 $ V $ 的转置，$ V $ 是另一个正交矩阵，包含了右奇异向量。\r\n",
    "\r\n",
    "\r\n"
   ]
  },
  {
   "cell_type": "code",
   "execution_count": 36,
   "id": "84d6db66-5398-488a-a015-ae4864aaae21",
   "metadata": {},
   "outputs": [
    {
     "name": "stdout",
     "output_type": "stream",
     "text": [
      "U矩阵：\n",
      "[[-0.21483724  0.88723069  0.40824829]\n",
      " [-0.52058739  0.24964395 -0.81649658]\n",
      " [-0.82633754 -0.38794278  0.40824829]]\n",
      "奇异值（S）：\n",
      "[1.68481034e+01 1.06836951e+00 1.40266540e-16]\n",
      "V^T 矩阵：\n",
      "[[-0.47967118 -0.57236779 -0.66506441]\n",
      " [-0.77669099 -0.07568647  0.62531805]\n",
      " [ 0.40824829 -0.81649658  0.40824829]]\n"
     ]
    }
   ],
   "source": [
    "# 创建示例矩阵\n",
    "A = np.array([[1, 2, 3], [4, 5, 6], [7, 8, 9]])\n",
    "\n",
    "# 进行 SVD 分解\n",
    "U, S, VT = np.linalg.svd(A)\n",
    "\n",
    "print(\"U矩阵：\")\n",
    "print(U)\n",
    "print(\"奇异值（S）：\")\n",
    "print(S)\n",
    "print(\"V^T 矩阵：\")\n",
    "print(VT)"
   ]
  },
  {
   "cell_type": "code",
   "execution_count": 38,
   "id": "60b0f26e-53b2-43c3-bee4-11972c949dbc",
   "metadata": {},
   "outputs": [],
   "source": [
    "def svd(data, k):\n",
    "    U, S, VT = np.linalg.svd(A)\n",
    "    Sigma_k = np.diag(S[:k])\n",
    "    U_k = U[:, :k]\n",
    "    VT_k = VT[:k, :]\n",
    "    return U, S, VT"
   ]
  },
  {
   "cell_type": "markdown",
   "id": "3e0d62e2-356f-4ecf-899e-629e9855a243",
   "metadata": {},
   "source": [
    "### 2. 将SVD用作推荐\n",
    "\n",
    "\n",
    "\n",
    "$$ \n",
    "r = U_{u} \\Sigma V_{v}^{\\top}\n",
    "$$\n",
    "\n",
    "其中：\n",
    "- $ r $ 是用户 $ u $ 对物品 $ v $ 的评分预测\n",
    "\n",
    "\n",
    "\n"
   ]
  },
  {
   "cell_type": "code",
   "execution_count": null,
   "id": "fc8479cd-02b7-4c59-8def-b4c86164dad1",
   "metadata": {},
   "outputs": [],
   "source": []
  }
 ],
 "metadata": {
  "kernelspec": {
   "display_name": "Python 3 (ipykernel)",
   "language": "python",
   "name": "python3"
  },
  "language_info": {
   "codemirror_mode": {
    "name": "ipython",
    "version": 3
   },
   "file_extension": ".py",
   "mimetype": "text/x-python",
   "name": "python",
   "nbconvert_exporter": "python",
   "pygments_lexer": "ipython3",
   "version": "3.11.7"
  }
 },
 "nbformat": 4,
 "nbformat_minor": 5
}
