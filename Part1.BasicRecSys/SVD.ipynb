{
 "cells": [
  {
   "cell_type": "code",
   "execution_count": 2,
   "id": "64ff0f47-766a-4bff-b534-aebb0591d686",
   "metadata": {},
   "outputs": [],
   "source": [
    "import numpy as np"
   ]
  },
  {
   "cell_type": "code",
   "execution_count": 4,
   "id": "84d6db66-5398-488a-a015-ae4864aaae21",
   "metadata": {},
   "outputs": [
    {
     "name": "stdout",
     "output_type": "stream",
     "text": [
      "U矩阵：\n",
      "[[-0.21483724  0.88723069  0.40824829]\n",
      " [-0.52058739  0.24964395 -0.81649658]\n",
      " [-0.82633754 -0.38794278  0.40824829]]\n",
      "奇异值（S）：\n",
      "[1.68481034e+01 1.06836951e+00 1.40266540e-16]\n",
      "V^T 矩阵：\n",
      "[[-0.47967118 -0.57236779 -0.66506441]\n",
      " [-0.77669099 -0.07568647  0.62531805]\n",
      " [ 0.40824829 -0.81649658  0.40824829]]\n"
     ]
    }
   ],
   "source": [
    "# 创建示例矩阵\n",
    "A = np.array([[1, 2, 3], [4, 5, 6], [7, 8, 9]])\n",
    "\n",
    "# 进行 SVD 分解\n",
    "U, S, VT = np.linalg.svd(A)\n",
    "\n",
    "# 打印结果\n",
    "print(\"U矩阵：\")\n",
    "print(U)\n",
    "print(\"奇异值（S）：\")\n",
    "print(S)\n",
    "print(\"V^T 矩阵：\")\n",
    "print(VT)"
   ]
  },
  {
   "cell_type": "code",
   "execution_count": null,
   "id": "5c5adf91-f902-4ce4-9ee9-f55d1840ffc6",
   "metadata": {},
   "outputs": [],
   "source": []
  }
 ],
 "metadata": {
  "kernelspec": {
   "display_name": "Python 3 (ipykernel)",
   "language": "python",
   "name": "python3"
  },
  "language_info": {
   "codemirror_mode": {
    "name": "ipython",
    "version": 3
   },
   "file_extension": ".py",
   "mimetype": "text/x-python",
   "name": "python",
   "nbconvert_exporter": "python",
   "pygments_lexer": "ipython3",
   "version": "3.11.7"
  }
 },
 "nbformat": 4,
 "nbformat_minor": 5
}
