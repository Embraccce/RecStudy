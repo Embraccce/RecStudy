{
 "cells": [
  {
   "cell_type": "code",
   "execution_count": 2,
   "id": "8f49fb92-8d6d-4973-a797-26eb237d3a9f",
   "metadata": {},
   "outputs": [],
   "source": [
    "import numpy as np"
   ]
  },
  {
   "cell_type": "markdown",
   "id": "70b47388-65a8-4372-8201-b740a2dab7de",
   "metadata": {},
   "source": [
    "### 1. 均方误差 (MSE)\r\n",
    "\r\n",
    "$$\r\n",
    "\\text{MSE} = \\frac{1}{|A|} \\sum_{(u,i) \\in A} (r_{ui} - \\hat{r_{ui}})^2\r\n",
    "$$\r\n",
    "\r\n",
    "其中：\r\n",
    "\r\n",
    "- $|A|$ 表示评分矩阵中实际评分的数量。\r\n",
    "- $r_{ui}$ 表示用户 `u` 对物品 `i` 的实际评分。\r\n",
    "- $\\hat{r_{ui}}$ MAE 是实际评分和预测评分的绝对误差的平均值。\r\n",
    "\r\n",
    "\n",
    "\r\n",
    "MAE 是实际评分和预测评分的绝对误差的平均值。"
   ]
  },
  {
   "cell_type": "code",
   "execution_count": 5,
   "id": "99542366-a283-4140-9f9b-c97df07eec8a",
   "metadata": {},
   "outputs": [],
   "source": [
    "def MSE(y_true, y_pred):\n",
    "    return np.mean((np.array(y_true) - np.array(y_pred)) ** 2)"
   ]
  },
  {
   "cell_type": "markdown",
   "id": "86aca8a1-6462-4856-aba8-93fc4dfb65e5",
   "metadata": {},
   "source": [
    "### 2. 均方根误差 (RMSE)\n",
    "\n",
    "$$\n",
    "\\text{RMSE} = \\sqrt{\\frac{1}{|A|} \\sum_{(u,i) \\in A} (r_{ui} - \\hat{r_{ui}})^2}\n",
    "$$\n",
    "\n",
    "RMSE 是 MSE 的平方根，用于保留与原评分尺度相同的单位。"
   ]
  },
  {
   "cell_type": "code",
   "execution_count": 8,
   "id": "8375cd64-ddac-4bf4-bd17-099d644074bc",
   "metadata": {},
   "outputs": [],
   "source": [
    "def RMSE(y_true, y_pred):\n",
    "    return MSE(y_true, y_pred) ** 0.5"
   ]
  },
  {
   "cell_type": "markdown",
   "id": "0eb2cba5-e447-4a88-a769-5ce52ceeb1b1",
   "metadata": {},
   "source": [
    "### 3. 平均绝对误差 (MAE)\n",
    "\n",
    "$$\n",
    "\\text{MAE} = \\frac{1}{|A|} \\sum_{(u,i) \\in A} |r_{ui} - \\hat{r_{ui}}|\n",
    "$$\n",
    "\n",
    "MAE 是实际评分和预测评分的绝对误差的平均值。"
   ]
  },
  {
   "cell_type": "code",
   "execution_count": 11,
   "id": "a7beb42a-f132-4476-b529-389c00d50da2",
   "metadata": {},
   "outputs": [],
   "source": [
    "def MAE(y_true, y_pred):\n",
    "    return np.mean(np.abs(np.array(y_true) - np.array(y_pred)))"
   ]
  },
  {
   "cell_type": "code",
   "execution_count": 13,
   "id": "c474b739-c191-452f-bc0c-7816ea8a768a",
   "metadata": {},
   "outputs": [
    {
     "ename": "SyntaxError",
     "evalue": "incomplete input (4229099439.py, line 1)",
     "output_type": "error",
     "traceback": [
      "\u001b[1;36m  Cell \u001b[1;32mIn[13], line 1\u001b[1;36m\u001b[0m\n\u001b[1;33m    def recall4Set(test_set,pred_set):\u001b[0m\n\u001b[1;37m                                      ^\u001b[0m\n\u001b[1;31mSyntaxError\u001b[0m\u001b[1;31m:\u001b[0m incomplete input\n"
     ]
    }
   ],
   "source": [
    "def recall4Set(test_set,pred_set):"
   ]
  },
  {
   "cell_type": "code",
   "execution_count": 15,
   "id": "ec39f66e-9247-4b85-8d1f-f4a7a4b0b21c",
   "metadata": {},
   "outputs": [
    {
     "ename": "SyntaxError",
     "evalue": "incomplete input (2268162966.py, line 1)",
     "output_type": "error",
     "traceback": [
      "\u001b[1;36m  Cell \u001b[1;32mIn[15], line 1\u001b[1;36m\u001b[0m\n\u001b[1;33m    def percision4Set(test_pos_set,test_neg_set,pred_set):\u001b[0m\n\u001b[1;37m                                                          ^\u001b[0m\n\u001b[1;31mSyntaxError\u001b[0m\u001b[1;31m:\u001b[0m incomplete input\n"
     ]
    }
   ],
   "source": [
    "def percision4Set(test_pos_set,test_neg_set,pred_set):"
   ]
  },
  {
   "cell_type": "code",
   "execution_count": null,
   "id": "7bbeaf8e-8a7c-4c8a-9935-1a8f82024ed2",
   "metadata": {},
   "outputs": [],
   "source": []
  }
 ],
 "metadata": {
  "kernelspec": {
   "display_name": "Python 3 (ipykernel)",
   "language": "python",
   "name": "python3"
  },
  "language_info": {
   "codemirror_mode": {
    "name": "ipython",
    "version": 3
   },
   "file_extension": ".py",
   "mimetype": "text/x-python",
   "name": "python",
   "nbconvert_exporter": "python",
   "pygments_lexer": "ipython3",
   "version": "3.11.7"
  }
 },
 "nbformat": 4,
 "nbformat_minor": 5
}
