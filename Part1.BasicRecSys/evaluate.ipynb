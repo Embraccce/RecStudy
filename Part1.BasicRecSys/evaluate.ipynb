{
 "cells": [
  {
   "cell_type": "code",
   "execution_count": 1,
   "id": "8f49fb92-8d6d-4973-a797-26eb237d3a9f",
   "metadata": {},
   "outputs": [],
   "source": [
    "import numpy as np"
   ]
  },
  {
   "cell_type": "markdown",
   "id": "70b47388-65a8-4372-8201-b740a2dab7de",
   "metadata": {},
   "source": [
    "### 1. 均方误差 (MSE)\n",
    "\n",
    "$$\n",
    "\\text{MSE} = \\frac{1}{|A|} \\sum_{(u,i) \\in A} (r_{ui} - \\hat{r_{ui}})^2\n",
    "$$\n",
    "\n",
    "其中：\n",
    "\n",
    "- $|A|$ 表示评分矩阵中实际评分的数量。\n",
    "- $r_{ui}$ 表示用户 `u` 对物品 `i` 的实际评分。\n",
    "- $\\hat{r_{ui}}$ MAE 是实际评分和预测评分的绝对误差的平均值。\n",
    "\n",
    "\n",
    "\n",
    "MAE 是实际评分和预测评分的绝对误差的平均值。"
   ]
  },
  {
   "cell_type": "code",
   "execution_count": 4,
   "id": "99542366-a283-4140-9f9b-c97df07eec8a",
   "metadata": {},
   "outputs": [],
   "source": [
    "def MSE(y_true, y_pred):\n",
    "    return np.mean((np.array(y_true) - np.array(y_pred)) ** 2)"
   ]
  },
  {
   "cell_type": "markdown",
   "id": "86aca8a1-6462-4856-aba8-93fc4dfb65e5",
   "metadata": {},
   "source": [
    "### 2. 均方根误差 (RMSE)\n",
    "\n",
    "$$\n",
    "\\text{RMSE} = \\sqrt{\\frac{1}{|A|} \\sum_{(u,i) \\in A} (r_{ui} - \\hat{r_{ui}})^2}\n",
    "$$\n",
    "\n",
    "RMSE 是 MSE 的平方根，用于保留与原评分尺度相同的单位。"
   ]
  },
  {
   "cell_type": "code",
   "execution_count": 7,
   "id": "8375cd64-ddac-4bf4-bd17-099d644074bc",
   "metadata": {},
   "outputs": [],
   "source": [
    "def RMSE(y_true, y_pred):\n",
    "    return MSE(y_true, y_pred) ** 0.5"
   ]
  },
  {
   "cell_type": "markdown",
   "id": "0eb2cba5-e447-4a88-a769-5ce52ceeb1b1",
   "metadata": {},
   "source": [
    "### 3. 平均绝对误差 (MAE)\n",
    "\n",
    "$$\n",
    "\\text{MAE} = \\frac{1}{|A|} \\sum_{(u,i) \\in A} |r_{ui} - \\hat{r_{ui}}|\n",
    "$$\n",
    "\n",
    "MAE 是实际评分和预测评分的绝对误差的平均值。"
   ]
  },
  {
   "cell_type": "code",
   "execution_count": 10,
   "id": "a7beb42a-f132-4476-b529-389c00d50da2",
   "metadata": {},
   "outputs": [],
   "source": [
    "def MAE(y_true, y_pred):\n",
    "    return np.mean(np.abs(np.array(y_true) - np.array(y_pred)))"
   ]
  },
  {
   "cell_type": "markdown",
   "id": "9d77c0d5-b4b6-491c-b65d-7e2bdcc471bd",
   "metadata": {},
   "source": [
    "### 4. 召回率 (Recall)\n",
    "\n",
    "**召回率** (Recall) 是衡量模型从所有正样本中正确识别出的比例，反映了模型对正样本的敏感度。\n",
    "\n",
    "公式如下：\n",
    "\n",
    "$$\n",
    "\\text{Recall} = \\frac{\\text{TP}}{\\text{TP} + \\text{FN}}\n",
    "$$\n",
    "\n",
    "其中：\n",
    "- $\\text{TP}$（True Positives）：被预测为正且实际为正的样本数量。\n",
    "- $\\text{FN}$（False Negatives）：被预测为ositives）：被预测为正但实际为负的样本数量。"
   ]
  },
  {
   "cell_type": "code",
   "execution_count": 18,
   "id": "c474b739-c191-452f-bc0c-7816ea8a768a",
   "metadata": {},
   "outputs": [],
   "source": [
    "def recall4Set(test_set, pred_set):\n",
    "    \"\"\"\n",
    "    计算召回率 (Recall)。\n",
    "    \n",
    "    输入:\n",
    "    - test_set: set，测试集的正样本集合\n",
    "    - pred_set: set，预测集的正样本集合\n",
    "\n",
    "    输出:\n",
    "    - float，召回率（Recall），范围 [0, 1]\n",
    "\n",
    "    公式:\n",
    "    Recall = |pred_set ∩ test_set| / |test_set|\n",
    "    其中，|pred_set ∩ test_set| 表示预测为正且实际为正的样本数量（TP）。\n",
    "    \"\"\"\n",
    "    # 计算交集中的正样本数量，并除以测试集中正样本的总数\n",
    "    return len(pred_set & test_set) / len(test_set)"
   ]
  },
  {
   "cell_type": "markdown",
   "id": "212011fc-b334-4acb-b84c-42a0cd4eeeac",
   "metadata": {},
   "source": [
    "### 5. 精确率 (Precision)\n",
    "\n",
    "**精确率** (Precision) 是衡量模型预测为正的样本中实际为正的比例，反映了模型对正样本预测的准确性。\n",
    "\n",
    "公式如下：\n",
    "\n",
    "$$\n",
    "\\text{Precision} = \\frac{\\text{TP}}{\\text{TP} + \\text{FP}}\n",
    "$$\n",
    "\n",
    "其中：\n",
    "- $\\text{TP}$（True Positives）：被预测为正且实际为正的样本数量。\n",
    "- $\\text{FP}$（False Positives）：被预测为正但实际为负的样本数量。"
   ]
  },
  {
   "cell_type": "code",
   "execution_count": 12,
   "id": "ec39f66e-9247-4b85-8d1f-f4a7a4b0b21c",
   "metadata": {},
   "outputs": [],
   "source": [
    "def percision4Set(test_pos_set, test_neg_set, pred_set):\n",
    "    \"\"\"\n",
    "    计算精确率 (Precision)。\n",
    "    \n",
    "    输入:\n",
    "    - test_pos_set: set，测试集的正样本集合\n",
    "    - test_neg_set: set，测试集的负样本集合\n",
    "    - pred_set: set，预测集的正样本集合\n",
    "\n",
    "    输出:\n",
    "    - float，精确率（Precision），范围 [0, 1]\n",
    "\n",
    "    公式:\n",
    "    Precision = TP / (TP + FP)\n",
    "    其中:\n",
    "    - TP（True Positives）: 预测为正且实际为正的样本数量\n",
    "    - FP（False Positives）: 预测为正但实际为负的样本数量\n",
    "    \"\"\"\n",
    "    # 计算TP：预测为正且实际为正的样本数量\n",
    "    TP = len(pred_set & test_pos_set)\n",
    "    # 计算FP：预测为正但实际为负的样本数量\n",
    "    FP = len(pred_set & test_neg_set)\n",
    "\n",
    "    p = TP / (TP + FP) if TP + FP > 0 else None\n",
    "    # p = TP/len(pred_set) #若对模型严格一点可这么去算精确度\n",
    "\n",
    "    return p"
   ]
  }
 ],
 "metadata": {
  "kernelspec": {
   "display_name": "Rec",
   "language": "python",
   "name": "python3"
  },
  "language_info": {
   "codemirror_mode": {
    "name": "ipython",
    "version": 3
   },
   "file_extension": ".py",
   "mimetype": "text/x-python",
   "name": "python",
   "nbconvert_exporter": "python",
   "pygments_lexer": "ipython3",
   "version": "3.9.20"
  }
 },
 "nbformat": 4,
 "nbformat_minor": 5
}
