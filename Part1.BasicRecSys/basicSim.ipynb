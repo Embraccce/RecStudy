{
 "cells": [
  {
   "cell_type": "code",
   "execution_count": 1,
   "metadata": {},
   "outputs": [],
   "source": [
    "import numpy as np"
   ]
  },
  {
   "cell_type": "markdown",
   "metadata": {},
   "source": [
    "#### 1. CN相似度"
   ]
  },
  {
   "cell_type": "code",
   "execution_count": 2,
   "metadata": {},
   "outputs": [],
   "source": [
    "def CN(set1,set2):\n",
    "    return len(set1&set2)"
   ]
  },
  {
   "cell_type": "code",
   "execution_count": 3,
   "metadata": {},
   "outputs": [
    {
     "name": "stdout",
     "output_type": "stream",
     "text": [
      "2\n",
      "0\n",
      "3\n",
      "0\n"
     ]
    }
   ],
   "source": [
    "# 测试用例\n",
    "print(CN({1, 2, 3}, {2, 3, 4}))\n",
    "print(CN({1, 2, 3}, {4, 5, 6}))\n",
    "print(CN({1, 2, 3}, {1, 2, 3}))\n",
    "print(CN(set(), {1, 2, 3}))"
   ]
  },
  {
   "cell_type": "markdown",
   "metadata": {},
   "source": [
    "#### 2. Jaccard相似度"
   ]
  },
  {
   "cell_type": "code",
   "execution_count": 4,
   "metadata": {},
   "outputs": [],
   "source": [
    "def Jaccard(set1,set2):\n",
    "    return len(set1&set2)/len(set1|set2)"
   ]
  },
  {
   "cell_type": "code",
   "execution_count": 5,
   "metadata": {},
   "outputs": [
    {
     "name": "stdout",
     "output_type": "stream",
     "text": [
      "0.5\n",
      "0.0\n",
      "1.0\n",
      "0.0\n"
     ]
    }
   ],
   "source": [
    "# 测试用例\n",
    "print(Jaccard({1, 2, 3}, {2, 3, 4}))\n",
    "print(Jaccard({1, 2, 3}, {4, 5, 6}))\n",
    "print(Jaccard({1, 2, 3}, {1, 2, 3}))\n",
    "print(Jaccard(set(), {1, 2, 3}))"
   ]
  },
  {
   "cell_type": "markdown",
   "metadata": {},
   "source": [
    "#### 3. Cos相似度"
   ]
  },
  {
   "cell_type": "code",
   "execution_count": 6,
   "metadata": {},
   "outputs": [],
   "source": [
    "def cos4vector(v1,v2):\n",
    "    return (np.dot(v1,v2)) / (np.linalg.norm(v1) * np.linalg.norm(v2))"
   ]
  },
  {
   "cell_type": "code",
   "execution_count": 7,
   "metadata": {},
   "outputs": [
    {
     "name": "stdout",
     "output_type": "stream",
     "text": [
      "0.3273268353539886\n"
     ]
    }
   ],
   "source": [
    "v1 = np.array([1,2,3,0,0])\n",
    "v2 = np.array([1,1,0,0,2])\n",
    "print(cos4vector(v1, v2))"
   ]
  },
  {
   "cell_type": "code",
   "execution_count": 8,
   "metadata": {},
   "outputs": [],
   "source": [
    "def cos4set(set1,set2):\n",
    "    return len(set1 & set2) / (len(set1)*len(set2)) ** 0.5"
   ]
  },
  {
   "cell_type": "code",
   "execution_count": 9,
   "metadata": {},
   "outputs": [
    {
     "name": "stdout",
     "output_type": "stream",
     "text": [
      "0.5\n"
     ]
    }
   ],
   "source": [
    "s1 = {1,2,3,5}\n",
    "s2 = {1,4,5,6}\n",
    "print(cos4set(s1,s2))"
   ]
  },
  {
   "cell_type": "markdown",
   "metadata": {},
   "source": [
    "#### 4. Pearson相似度"
   ]
  },
  {
   "cell_type": "code",
   "execution_count": 10,
   "metadata": {},
   "outputs": [],
   "source": [
    "def pearson(v1,v2):\n",
    "    v1_mean = np.mean(v1)\n",
    "    v2_mean = np.mean(v2)\n",
    "    return np.dot(v1-v1_mean,v2-v2_mean) / (np.linalg.norm(v1-v1_mean) * np.linalg.norm(v2-v2_mean))"
   ]
  },
  {
   "cell_type": "code",
   "execution_count": 11,
   "metadata": {},
   "outputs": [
    {
     "name": "stdout",
     "output_type": "stream",
     "text": [
      "0.11470786693528087\n"
     ]
    }
   ],
   "source": [
    "v1 = [1,3,2]\n",
    "v2 = [8,9,1]\n",
    "print(pearson(v1,v2))"
   ]
  },
  {
   "cell_type": "code",
   "execution_count": 12,
   "metadata": {},
   "outputs": [],
   "source": [
    "def pearsonSimple(v1,v2):\n",
    "    v1 -= np.mean(v1)\n",
    "    v2 -= np.mean(v2)\n",
    "    return cos4vector(v1,v2)"
   ]
  },
  {
   "cell_type": "code",
   "execution_count": 13,
   "metadata": {},
   "outputs": [
    {
     "name": "stdout",
     "output_type": "stream",
     "text": [
      "0.11470786693528087\n"
     ]
    }
   ],
   "source": [
    "v1 = [1,3,2]\n",
    "v2 = [8,9,1]\n",
    "print(pearsonSimple(v1,v2))"
   ]
  },
  {
   "cell_type": "code",
   "execution_count": null,
   "metadata": {},
   "outputs": [],
   "source": []
  }
 ],
 "metadata": {
  "kernelspec": {
   "display_name": "Python 3 (ipykernel)",
   "language": "python",
   "name": "python3"
  },
  "language_info": {
   "codemirror_mode": {
    "name": "ipython",
    "version": 3
   },
   "file_extension": ".py",
   "mimetype": "text/x-python",
   "name": "python",
   "nbconvert_exporter": "python",
   "pygments_lexer": "ipython3",
   "version": "3.11.7"
  }
 },
 "nbformat": 4,
 "nbformat_minor": 4
}
