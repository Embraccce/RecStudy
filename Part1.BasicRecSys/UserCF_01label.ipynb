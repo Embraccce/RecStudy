{
 "cells": [
  {
   "cell_type": "code",
   "execution_count": 13,
   "id": "d53af40b-b548-4d63-8c3c-f2ebdec8de33",
   "metadata": {},
   "outputs": [],
   "source": [
    "import collections\n",
    "import nbimporter\n",
    "import basicSim\n",
    "import dataloader\n",
    "import evaluate\n",
    "from tqdm import tqdm\n",
    "import numpy as np"
   ]
  },
  {
   "cell_type": "code",
   "execution_count": 14,
   "id": "59a55b77-c43e-4aaa-b5d5-fa2715ce35a5",
   "metadata": {},
   "outputs": [],
   "source": [
    "def getSet(triples):\n",
    "    \"\"\"\n",
    "    根据用户-物品-评分的三元组，生成用户和物品的多种映射集合。\n",
    "    \n",
    "    输入:\n",
    "    - triples: list of tuples，格式为 (user, item, rating)，表示用户对物品的评分。\n",
    "        - user: int 或 str，用户的唯一标识符\n",
    "        - item: int 或 str，物品的唯一标识符\n",
    "        - rating: int，评分，通常为 1（正反馈）或 0（负反馈）\n",
    "\n",
    "    输出:\n",
    "    - user_pos_items: dict，{用户: 正反馈物品集合}\n",
    "        - 用户与其正反馈（rating = 1）的物品之间的映射。\n",
    "    - item_users: dict，{物品: 用户集合}\n",
    "        - 每个物品被评分过的用户集合。\n",
    "    - user_neg_items: dict，{用户: 负反馈物品集合}\n",
    "        - 用户与其负反馈（rating ≠ 1）的物品之间的映射。\n",
    "    - user_all_items: dict，{用户: 全部物品集合}\n",
    "        - 用户评分过的所有物品集合，无论是正反馈还是负反馈。\n",
    "    \n",
    "    逻辑:\n",
    "    1. 初始化四个 `defaultdict`，分别存储正反馈、负反馈、所有评分过的物品，以及物品被评分的用户。\n",
    "    2. 遍历输入的三元组列表：\n",
    "        - 将物品添加到 `user_all_items` 中，表示用户评分过的所有物品。\n",
    "        - 将用户添加到 `item_users` 中，表示物品被评分过的用户集合。\n",
    "        - 根据评分（rating），将物品归入正反馈集合或负反馈集合。\n",
    "    3. 返回四个字典。\n",
    "    \"\"\"\n",
    "    # 用户的正反馈物品集合\n",
    "    user_pos_items = collections.defaultdict(set)\n",
    "    # 用户的负反馈物品集合\n",
    "    user_neg_items = collections.defaultdict(set)\n",
    "    # 用户评分过的所有物品集合\n",
    "    user_all_items = collections.defaultdict(set)\n",
    "    # 物品被评分的用户集合\n",
    "    item_users = collections.defaultdict(set)\n",
    "    \n",
    "    # 遍历每个三元组 (user, item, rating)\n",
    "    for u, i, r in triples:\n",
    "        # 添加到用户的所有物品集合\n",
    "        user_all_items[u].add(i)\n",
    "        \n",
    "        if r == 1:  # 正反馈\n",
    "            user_pos_items[u].add(i)\n",
    "            item_users[i].add(u)  # 这里重复添加无影响，因为是集合\n",
    "        else:  # 负反馈\n",
    "            user_neg_items[u].add(i)\n",
    "    \n",
    "    # 返回用户和物品之间的四种映射关系\n",
    "    return user_pos_items, item_users, user_neg_items, user_all_items"
   ]
  },
  {
   "cell_type": "code",
   "execution_count": 15,
   "id": "41f7bc78-13e0-4d05-a78e-89cfd50c4528",
   "metadata": {},
   "outputs": [],
   "source": [
    "def knn4set_userCF(trainset,k,sim_method):\n",
    "    \"\"\"\n",
    "    计算每个商品在给定训练集中基于相似度的 K 相似用户。\n",
    "\n",
    "    参数：\n",
    "        trainset (dict): 一个字典，键是用户 ID，值是该用户的物品集合。\n",
    "        k (int): 每个用户的近邻数量。\n",
    "        sim_method (function): 一个相似度计算方法，用于计算两个用户之间的相似度。该方法接受两个集合作为输入，返回一个相似度值。\n",
    "\n",
    "    返回：\n",
    "        dict: 一个字典，其中键是用户 ID，值是与该用户最相似的 K 个用户的 ID 列表。\n",
    "\n",
    "    说明：\n",
    "        1. 对于训练集中的每个用户 u1，遍历所有其他用户 u2 以计算相似度。\n",
    "        2. 只对拥有共同物品的用户对（u1 和 u2）进行相似度计算。\n",
    "        3. 忽略 u1 自身以及没有共同物品的用户。\n",
    "        4. 计算相似度后，将每个 u1 的所有其他用户按相似度排序并选取前 K 个用户作为其近邻。\n",
    "    \"\"\"\n",
    "    sims = {}\n",
    "    for u1 in tqdm(trainset):\n",
    "        ulist = []\n",
    "        for u2 in trainset:\n",
    "            if u1 == u2 or len(trainset[u1] & trainset[u2]) == 0:\n",
    "                continue\n",
    "            sim = sim_method(trainset[u1],trainset[u2])\n",
    "            ulist.append((u2,sim))\n",
    "        sims[u1] = [i[0] for i in sorted(ulist, key=lambda x:x[1],reverse=True)[:k]]\n",
    "    return sims"
   ]
  },
  {
   "cell_type": "code",
   "execution_count": 16,
   "id": "52c2e6c5-367a-4d68-bb75-ec7ca843ca7e",
   "metadata": {},
   "outputs": [],
   "source": [
    "def get_recommodations_by_userCF(user_sims, user_o_set):\n",
    "    \"\"\"\n",
    "    基于用户协同过滤（userCF）推荐物品。\n",
    "    \n",
    "    参数：\n",
    "        user_sims (dict): 用户相似度字典，其中键是用户 u，值是与该用户相似的用户列表。\n",
    "        user_o_set (dict): 每个用户已拥有物品的集合，键是用户 u，值是该用户已拥有的物品集合。\n",
    "        \n",
    "    返回：\n",
    "        dict: 用户推荐字典，其中键是用户 u，值是推荐给该用户的物品集合。\n",
    "    \n",
    "    功能：\n",
    "        该函数遍历每个用户 u 的相似用户列表，并从相似用户中找到用户 u 尚未拥有的物品，\n",
    "        将这些物品推荐给用户 u。\n",
    "    \"\"\"\n",
    "    recommodations = collections.defaultdict(set)\n",
    "    for u in user_sims:\n",
    "        for sim_u in user_sims[u]:\n",
    "            recommodations[u] |= (user_o_set[sim_u] - user_o_set[u])\n",
    "    return recommodations"
   ]
  },
  {
   "cell_type": "code",
   "execution_count": 17,
   "id": "3c01aada-bbf5-4fd2-b37b-bcf6c8612494",
   "metadata": {},
   "outputs": [],
   "source": [
    "def trainUserCF( user_items_train, sim_method, user_all_items, k = 5 ):\n",
    "    user_sims = knn4set_userCF( user_items_train, k, sim_method )\n",
    "    recomedations = get_recommodations_by_userCF( user_sims, user_all_items )\n",
    "    return recomedations"
   ]
  },
  {
   "cell_type": "code",
   "execution_count": 18,
   "id": "c0fa85b6-7bc9-4ee3-ab3b-27ab26fde42c",
   "metadata": {},
   "outputs": [],
   "source": [
    "def evaluate_userCF(user_pos_item_test, user_neg_item_test, pred_set):\n",
    "    \"\"\"\n",
    "    使用测试集评估用户协同过滤 (UserCF) 模型的性能。\n",
    "    \n",
    "    参数：\n",
    "        user_pos_item_test: dict，测试集中每个用户的正反馈物品集合。\n",
    "        user_neg_item_test: dict，测试集中每个用户的负反馈物品集合。\n",
    "        pred_set: dict，模型为每个用户预测的推荐物品集合。\n",
    "\n",
    "    返回：\n",
    "        dict: 包含召回率 (Recall) 和精确率 (Precision) 的评估结果。\n",
    "    \"\"\"\n",
    "    recall_scores = []\n",
    "    precision_scores = []\n",
    "    \n",
    "    # 遍历每个用户\n",
    "    for user in user_pos_item_test:\n",
    "        # 获取该用户的测试集正样本和负样本\n",
    "        test_pos_set = user_pos_item_test[user]\n",
    "        test_neg_set = user_neg_item_test.get(user, set())\n",
    "        \n",
    "        # 获取模型为该用户的预测推荐集合\n",
    "        pred_items = pred_set.get(user, set())\n",
    "        \n",
    "        # 计算召回率\n",
    "        recall = evaluate.recall4Set(test_pos_set, pred_items)\n",
    "        recall_scores.append(recall)\n",
    "        \n",
    "        # 计算精确率\n",
    "        precision = evaluate.percision4Set(test_pos_set, test_neg_set, pred_items)\n",
    "        precision_scores.append(precision)\n",
    "    \n",
    "    # 计算所有用户的平均召回率和精确率\n",
    "    avg_recall = np.nanmean(recall_scores)\n",
    "    avg_precision = np.nanmean(np.array([x if x is not None else np.nan for x in precision_scores]))\n",
    "\n",
    "    # 返回评估结果\n",
    "    return {\n",
    "        \"Average Recall\": avg_recall,\n",
    "        \"Average Precision\": avg_precision\n",
    "    }"
   ]
  },
  {
   "cell_type": "code",
   "execution_count": 50,
   "id": "4dfb6c24-12c1-4afb-a677-49e1ff764c14",
   "metadata": {},
   "outputs": [],
   "source": [
    "# 读取数据\n",
    "_, _, train_set, test_set = dataloader.read_triples(test_ratio=0.1)\n",
    "user_items_train, _, _, user_all_items = getSet(train_set)\n",
    "user_pos_item_test ,_,user_neg_item_test,_ = getSet(test_set)"
   ]
  },
  {
   "cell_type": "code",
   "execution_count": 52,
   "id": "8633ef3e-ddbc-429e-94a8-1391afeaba78",
   "metadata": {},
   "outputs": [
    {
     "name": "stderr",
     "output_type": "stream",
     "text": [
      "100%|███████████████████████████████████████████████████████████████████████████████| 942/942 [00:01<00:00, 528.96it/s]\n"
     ]
    }
   ],
   "source": [
    "# 训练模型\n",
    "recomedations_by_userCF = trainUserCF( user_items_train, basicSim.cos4set, user_all_items, k=5 )"
   ]
  },
  {
   "cell_type": "code",
   "execution_count": 54,
   "id": "49607727-fab8-4fa9-824f-606310038776",
   "metadata": {},
   "outputs": [
    {
     "name": "stdout",
     "output_type": "stream",
     "text": [
      "UserCF Evaluation Results:\n",
      "Average Recall: 0.8038\n",
      "Average Precision: 0.6415\n"
     ]
    }
   ],
   "source": [
    "# 模型评估\n",
    "evaluation_results = evaluate_userCF(\n",
    "    user_pos_item_test=user_pos_item_test,\n",
    "    user_neg_item_test=user_neg_item_test,\n",
    "    pred_set=recomedations_by_userCF\n",
    ")\n",
    "# 打印评估结果\n",
    "print(\"UserCF Evaluation Results:\")\n",
    "print(f\"Average Recall: {evaluation_results['Average Recall']:.4f}\")\n",
    "print(f\"Average Precision: {evaluation_results['Average Precision']:.4f}\")"
   ]
  },
  {
   "cell_type": "code",
   "execution_count": null,
   "id": "f484aacc-0080-4f30-a536-1c2cb458c7bf",
   "metadata": {},
   "outputs": [],
   "source": []
  }
 ],
 "metadata": {
  "kernelspec": {
   "display_name": "Rec",
   "language": "python",
   "name": "rec"
  },
  "language_info": {
   "codemirror_mode": {
    "name": "ipython",
    "version": 3
   },
   "file_extension": ".py",
   "mimetype": "text/x-python",
   "name": "python",
   "nbconvert_exporter": "python",
   "pygments_lexer": "ipython3",
   "version": "3.9.20"
  }
 },
 "nbformat": 4,
 "nbformat_minor": 5
}
