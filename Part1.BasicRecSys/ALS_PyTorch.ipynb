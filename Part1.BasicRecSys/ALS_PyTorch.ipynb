{
 "cells": [
  {
   "cell_type": "code",
   "execution_count": 6,
   "id": "14fe097c-ca46-4e14-8b9e-117a91fd289b",
   "metadata": {
    "editable": true,
    "slideshow": {
     "slide_type": ""
    },
    "tags": []
   },
   "outputs": [],
   "source": [
    "import numpy as np\n",
    "import torch\n",
    "import torch.nn as nn"
   ]
  },
  {
   "cell_type": "code",
   "execution_count": 99,
   "id": "883ba4ca-0a58-4813-aa13-3b73ba275f82",
   "metadata": {
    "editable": true,
    "slideshow": {
     "slide_type": ""
    },
    "tags": []
   },
   "outputs": [],
   "source": [
    "class ALS(nn.Module):\n",
    "    def __init__(self, n_users, n_items, dim):\n",
    "        super(ALS, self).__init__()\n",
    "        \n",
    "        # 随机初始化用户和物品的嵌入向量，并将它们的L2范数约束在1以内\n",
    "        self.users = nn.Embedding(n_users, dim, max_norm=1)\n",
    "        self.items = nn.Embedding(n_items, dim, max_norm=1)\n",
    "        \n",
    "        # 使用Sigmoid激活函数，将点积相似度映射到 [0, 1] 的范围\n",
    "        self.sigmoid = nn.Sigmoid()\n",
    "\n",
    "    def forward(self, user_ids, item_ids):\n",
    "        \"\"\"\n",
    "        前向传播方法，用于计算用户和物品之间的相似度。\n",
    "        \n",
    "        参数:\n",
    "        - user_ids: 用户索引，形状为 [batch_size]\n",
    "        - item_ids: 物品索引，形状为 [batch_size]\n",
    "        \n",
    "        返回:\n",
    "        - similarity_scores: 用户和物品之间的相似度分数，范围在 [0, 1]，形状为 [batch_size]\n",
    "        \"\"\"\n",
    "        \n",
    "        # 从嵌入层提取用户和物品的嵌入向量\n",
    "        # user_embeddings 和 item_embeddings 的形状均为 [batch_size, dim]\n",
    "        user_embeddings = self.users(user_ids)\n",
    "        item_embeddings = self.items(item_ids)\n",
    "        \n",
    "        # 计算用户和物品嵌入的点积相似度，形状为 [batch_size]\n",
    "        dot_product_similarity = torch.sum(user_embeddings * item_embeddings, dim=1)\n",
    "        \n",
    "        # 使用Sigmoid将点积相似度映射到 [0, 1] 范围，得到相似度得分\n",
    "        similarity_scores = self.sigmoid(dot_product_similarity)\n",
    "        \n",
    "        return similarity_scores"
   ]
  },
  {
   "cell_type": "code",
   "execution_count": 115,
   "id": "6418d92c-a7eb-49aa-88fa-2c29b96c01bd",
   "metadata": {},
   "outputs": [
    {
     "name": "stdout",
     "output_type": "stream",
     "text": [
      "用户索引: tensor([83, 74, 72, 99, 23])\n",
      "物品索引: tensor([  0,  45,   0, 111,  73])\n",
      "相似度得分: tensor([0.5133, 0.4564, 0.4844, 0.5584, 0.4642], grad_fn=<SigmoidBackward0>)\n"
     ]
    }
   ],
   "source": [
    "# 假设有 100 个用户，200 个物品，嵌入维度为 64\n",
    "n_users, n_items, dim = 100, 200, 64\n",
    "als_model = ALS(n_users, n_items, dim)\n",
    "\n",
    "# 创建一些用户和物品的索引数据，形状为 [batch_size]\n",
    "batch_size = 5\n",
    "user_ids = torch.randint(0, n_users, (batch_size,))\n",
    "item_ids = torch.randint(0, n_items, (batch_size,))\n",
    "\n",
    "# 运行前向传播，得到相似度得分\n",
    "similarity_scores = als_model(user_ids, item_ids)\n",
    "\n",
    "# 输出结果\n",
    "print(\"用户索引:\", user_ids)\n",
    "print(\"物品索引:\", item_ids)\n",
    "print(\"相似度得分:\", similarity_scores)"
   ]
  },
  {
   "cell_type": "code",
   "execution_count": null,
   "id": "f166aac3-391c-4e20-aa1d-dfbe91371c44",
   "metadata": {},
   "outputs": [],
   "source": []
  }
 ],
 "metadata": {
  "kernelspec": {
   "display_name": "Rec",
   "language": "python",
   "name": "rec"
  },
  "language_info": {
   "codemirror_mode": {
    "name": "ipython",
    "version": 3
   },
   "file_extension": ".py",
   "mimetype": "text/x-python",
   "name": "python",
   "nbconvert_exporter": "python",
   "pygments_lexer": "ipython3",
   "version": "3.9.20"
  }
 },
 "nbformat": 4,
 "nbformat_minor": 5
}
