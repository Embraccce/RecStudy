{
 "cells": [
  {
   "cell_type": "code",
   "execution_count": 16,
   "id": "a7cfb9b6-fccc-4530-818d-1145e90014c2",
   "metadata": {},
   "outputs": [],
   "source": [
    "import collections\n",
    "import csv\n",
    "import random"
   ]
  },
  {
   "cell_type": "code",
   "execution_count": 18,
   "id": "6346c337-c92d-4f6c-b103-f326257f5d39",
   "metadata": {},
   "outputs": [],
   "source": [
    "def read_triples(file_path=\"../dataset/ml-100k/rating_index.tsv\",test_ratio = 0.1):\n",
    "    \"\"\"\n",
    "    读取用户-物品-评分数据文件，并将数据分为训练集和测试集。\n",
    "    \n",
    "    输入:\n",
    "    - file_path: str，数据文件路径，文件格式为制表符分隔的文本文件，每行格式如下:\n",
    "        user_id    item_id    rating\n",
    "        例如：\n",
    "        1    101    1\n",
    "        2    102    0\n",
    "        ...\n",
    "\n",
    "    输出:\n",
    "    - user_set: list，用户集合的列表（去重后）\n",
    "    - item_set: list，物品集合的列表（去重后）\n",
    "    - train_set: list，训练集，包含 (user_id, item_id, rating) 的三元组\n",
    "    - test_set: list，测试集，包含 (user_id, item_id, rating) 的三元组\n",
    "    \n",
    "    逻辑:\n",
    "    1. 初始化用户集合、物品集合和三元组列表。\n",
    "    2. 打开文件并逐行读取，解析出用户 ID、物品 ID 和评分，将它们加入相应的集合和列表。\n",
    "    3. 随机采样一定比例的数据作为测试集，其余作为训练集。\n",
    "    4. 返回用户集合、物品集合以及划分后的训练集和测试集。\n",
    "    \"\"\"\n",
    "    # 初始化用户集合、物品集合和三元组列表\n",
    "    user_set, item_set = set(), set()\n",
    "    triples = []\n",
    "    \n",
    "    # 打开文件并逐行读取\n",
    "    with open(file_path, 'r', newline='') as file:\n",
    "        # 使用 csv 模块读取制表符分隔的文件\n",
    "        reader = csv.reader(file, delimiter='\\t')  \n",
    "        for u, i, r in reader:\n",
    "            # 将用户和物品 ID 转为整数并加入集合\n",
    "            user_set.add(int(u))\n",
    "            item_set.add(int(i))\n",
    "            # 将三元组 (user_id, item_id, rating) 添加到列表\n",
    "            triples.append((int(u), int(i), int(r)))\n",
    "\n",
    "    # 随机采样一定比例的三元组作为测试集\n",
    "    test_set = random.sample(triples, int(len(triples) * test_ratio))\n",
    "    # 剩余的三元组作为训练集\n",
    "    train_set = list(set(triples) - set(test_set))\n",
    "\n",
    "    # 返回用户集合列表，物品集合列表，与用户-物品-评分三元组的训练集和测试集\n",
    "    return list(user_set), list(item_set), train_set, test_set\n"
   ]
  }
 ],
 "metadata": {
  "kernelspec": {
   "display_name": "Rec",
   "language": "python",
   "name": "rec"
  },
  "language_info": {
   "codemirror_mode": {
    "name": "ipython",
    "version": 3
   },
   "file_extension": ".py",
   "mimetype": "text/x-python",
   "name": "python",
   "nbconvert_exporter": "python",
   "pygments_lexer": "ipython3",
   "version": "3.9.20"
  }
 },
 "nbformat": 4,
 "nbformat_minor": 5
}
