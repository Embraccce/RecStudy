{
 "cells": [
  {
   "cell_type": "code",
   "execution_count": 1,
   "id": "6f0978b7-bb37-4b2a-bf99-ac85d0d2d9f7",
   "metadata": {},
   "outputs": [],
   "source": [
    "import collections\n",
    "import nbimporter\n",
    "import basicSim\n",
    "import dataloader\n",
    "import evaluate\n",
    "from tqdm import tqdm\n",
    "import numpy as np"
   ]
  },
  {
   "cell_type": "code",
   "execution_count": 2,
   "id": "69c1491b-8223-4113-8a80-197672ab0fdf",
   "metadata": {},
   "outputs": [],
   "source": [
    "def getSet(triples):\n",
    "    \"\"\"\n",
    "    根据用户-物品-评分的三元组，生成用户和物品的多种映射集合。\n",
    "    \n",
    "    输入:\n",
    "    - triples: list of tuples，格式为 (user, item, rating)，表示用户对物品的评分。\n",
    "        - user: int 或 str，用户的唯一标识符\n",
    "        - item: int 或 str，物品的唯一标识符\n",
    "        - rating: int，评分，通常为 1（正反馈）或 0（负反馈）\n",
    "\n",
    "    输出:\n",
    "    - user_pos_items: dict，{用户: 正反馈物品集合}\n",
    "        - 用户与其正反馈（rating = 1）的物品之间的映射。\n",
    "    - item_users: dict，{物品: 用户集合}\n",
    "        - 每个物品被评分过的用户集合。\n",
    "    - user_neg_items: dict，{用户: 负反馈物品集合}\n",
    "        - 用户与其负反馈（rating ≠ 1）的物品之间的映射。\n",
    "    - user_all_items: dict，{用户: 全部物品集合}\n",
    "        - 用户评分过的所有物品集合，无论是正反馈还是负反馈。\n",
    "    \n",
    "    逻辑:\n",
    "    1. 初始化四个 `defaultdict`，分别存储正反馈、负反馈、所有评分过的物品，以及物品被评分的用户。\n",
    "    2. 遍历输入的三元组列表：\n",
    "        - 将物品添加到 `user_all_items` 中，表示用户评分过的所有物品。\n",
    "        - 将用户添加到 `item_users` 中，表示物品被评分过的用户集合。\n",
    "        - 根据评分（rating），将物品归入正反馈集合或负反馈集合。\n",
    "    3. 返回四个字典。\n",
    "    \"\"\"\n",
    "    # 用户的正反馈物品集合\n",
    "    user_pos_items = collections.defaultdict(set)\n",
    "    # 用户的负反馈物品集合\n",
    "    user_neg_items = collections.defaultdict(set)\n",
    "    # 用户评分过的所有物品集合\n",
    "    user_all_items = collections.defaultdict(set)\n",
    "    # 物品被评分的用户集合\n",
    "    item_users = collections.defaultdict(set)\n",
    "    \n",
    "    # 遍历每个三元组 (user, item, rating)\n",
    "    for u, i, r in triples:\n",
    "        # 添加到用户的所有物品集合\n",
    "        user_all_items[u].add(i)\n",
    "        \n",
    "        if r == 1:  # 正反馈\n",
    "            user_pos_items[u].add(i)\n",
    "            item_users[i].add(u)  # 这里重复添加无影响，因为是集合\n",
    "        else:  # 负反馈\n",
    "            user_neg_items[u].add(i)\n",
    "    \n",
    "    # 返回用户和物品之间的四种映射关系\n",
    "    return user_pos_items, item_users, user_neg_items, user_all_items"
   ]
  },
  {
   "cell_type": "code",
   "execution_count": 3,
   "id": "435fe85f-69bf-4015-bf9e-4ba7035bde00",
   "metadata": {},
   "outputs": [],
   "source": [
    "def knn4set_itemCF(trainset, k, sim_method):\n",
    "    \"\"\"\n",
    "    计算每个物品在给定训练集中基于相似度的 K 相似物品。\n",
    "\n",
    "    参数：\n",
    "        trainset (dict): 一个字典，键是物品 ID，值是该物品的用户集合。\n",
    "        k (int): 每个物品的近邻数量。\n",
    "        sim_method (function): 一个相似度计算方法，用于计算两个物品之间的相似度。该方法接受两个集合作为输入，返回一个相似度值。\n",
    "\n",
    "    返回：\n",
    "        dict: 一个字典，其中键是物品 ID，值是与该物品最相似的 K 个物品的 ID 列表。\n",
    "\n",
    "    说明：\n",
    "        1. 对于训练集中的每个物品 i1，遍历所有其他物品 i2 以计算相似度。\n",
    "        2. 只对拥有共同用户的物品对（i1 和 i2）进行相似度计算。\n",
    "        3. 忽略 i1 自身以及没有共同用户的物品。\n",
    "        4. 计算相似度后，将每个 i1 的所有其他物品按相似度排序并选取前 K 个物品作为其近邻。\n",
    "    \"\"\"\n",
    "    sims = collections.defaultdict(list)\n",
    "    for i1 in tqdm(trainset):\n",
    "        ilist = []\n",
    "        for i2 in trainset:\n",
    "            if i1 == i2 or len(trainset[i1] & trainset[i2]) == 0:\n",
    "                continue\n",
    "            sim = sim_method(trainset[i1], trainset[i2])\n",
    "            ilist.append((i2,sim))\n",
    "        # 选择 K 个最相似的物品\n",
    "        sims[i1] = [i[0] for i in sorted(ilist, key=lambda x:x[1],reverse=True)[:k]]\n",
    "    return sims"
   ]
  },
  {
   "cell_type": "code",
   "execution_count": 4,
   "id": "02f8899f-b988-4d55-ba6f-258dd1d1086c",
   "metadata": {},
   "outputs": [],
   "source": [
    "def get_recommodations_by_itemCF(item_sims, user_o_set):\n",
    "    \"\"\"\n",
    "    基于物品协同过滤（ItemCF）推荐物品。\n",
    "\n",
    "    参数：\n",
    "        item_sims (dict): 物品相似度字典，其中键是物品 ID，值是与该物品相似的物品 ID 列表。\n",
    "        user_o_set (dict): 每个用户已拥有物品的集合，键是用户 ID，值是该用户已拥有的物品集合。\n",
    "\n",
    "    返回：\n",
    "        dict: 用户推荐字典，其中键是用户 ID，值是推荐给该用户的物品集合。\n",
    "\n",
    "    功能：\n",
    "        该函数遍历每个用户及其已拥有的物品，为每个物品找到相似物品，并将用户尚未拥有的相似物品推荐给用户。\n",
    "    \"\"\"\n",
    "    \n",
    "    recommodations = collections.defaultdict(set)\n",
    "    for u in user_o_set:\n",
    "        for item in user_o_set[u]:\n",
    "            if item in item_sims:\n",
    "                recommodations[u] |= set(item_sims[item]) - user_o_set[u]\n",
    "    return recommodations"
   ]
  },
  {
   "cell_type": "code",
   "execution_count": 5,
   "id": "df46577f-ee10-471d-ba21-8348346c3e9e",
   "metadata": {},
   "outputs": [],
   "source": [
    "def trainItemCF( item_users_train, sim_method, user_all_items, k = 5 ):\n",
    "    item_sims = knn4set_itemCF( item_users_train, k, sim_method )\n",
    "    recomedations = get_recommodations_by_itemCF( item_sims, user_all_items )\n",
    "    return recomedations"
   ]
  },
  {
   "cell_type": "code",
   "execution_count": 6,
   "id": "912d7b84-c5fb-47d6-ba17-04061a9a1247",
   "metadata": {},
   "outputs": [],
   "source": [
    "def evaluate_itemCF(user_pos_item_test, user_neg_item_test, pred_set):\n",
    "    \"\"\"\n",
    "    使用测试集评估用户协同过滤 (ItemCF) 模型的性能。\n",
    "    \n",
    "    参数：\n",
    "        user_pos_item_test: dict，测试集中每个用户的正反馈物品集合。\n",
    "        user_neg_item_test: dict，测试集中每个用户的负反馈物品集合。\n",
    "        pred_set: dict，模型为每个用户预测的推荐物品集合。\n",
    "\n",
    "    返回：\n",
    "        dict: 包含召回率 (Recall) 和精确率 (Precision) 的评估结果。\n",
    "    \"\"\"\n",
    "    recall_scores = []\n",
    "    precision_scores = []\n",
    "    \n",
    "    # 遍历每个用户\n",
    "    for user in user_pos_item_test:\n",
    "        # 获取该用户的测试集正样本和负样本\n",
    "        test_pos_set = user_pos_item_test[user]\n",
    "        test_neg_set = user_neg_item_test.get(user, set())\n",
    "        \n",
    "        # 获取模型为该用户的预测推荐集合\n",
    "        pred_items = pred_set.get(user, set())\n",
    "        \n",
    "        # 计算召回率\n",
    "        recall = evaluate.recall4Set(test_pos_set, pred_items)\n",
    "        recall_scores.append(recall)\n",
    "        \n",
    "        # 计算精确率\n",
    "        precision = evaluate.percision4Set(test_pos_set, test_neg_set, pred_items)\n",
    "        precision_scores.append(precision)\n",
    "    \n",
    "    # 计算所有用户的平均召回率和精确率\n",
    "    avg_recall = np.mean(recall_scores)\n",
    "    avg_precision = np.mean(np.array([x for x in precision_scores if x is not None]))\n",
    "\n",
    "    # 返回评估结果\n",
    "    return {\n",
    "        \"Average Recall\": avg_recall,\n",
    "        \"Average Precision\": avg_precision\n",
    "    }"
   ]
  },
  {
   "cell_type": "code",
   "execution_count": 7,
   "id": "a5bd5d7f-c357-4add-b6b1-0a1311760b24",
   "metadata": {},
   "outputs": [],
   "source": [
    "# 读取数据\n",
    "_, _, train_set, test_set = dataloader.read_triples(test_ratio=0.1)\n",
    "_, item_users_train, _, user_all_items = getSet(train_set)\n",
    "user_pos_item_test ,_,user_neg_item_test,_ = getSet(test_set)"
   ]
  },
  {
   "cell_type": "code",
   "execution_count": 8,
   "id": "da386ad1-a9d1-4cd5-a36c-d7cfbc32990e",
   "metadata": {},
   "outputs": [
    {
     "name": "stderr",
     "output_type": "stream",
     "text": [
      "100%|█████████████████████████████████████████████████████████████████████████████| 1354/1354 [00:01<00:00, 896.86it/s]\n"
     ]
    }
   ],
   "source": [
    "# 训练模型\n",
    "recomedations_by_itemCF = trainItemCF( item_users_train, basicSim.cos4set, user_all_items, k=5 )"
   ]
  },
  {
   "cell_type": "code",
   "execution_count": 9,
   "id": "5f10694e-e937-4651-822a-1dc1ff77083a",
   "metadata": {},
   "outputs": [
    {
     "name": "stdout",
     "output_type": "stream",
     "text": [
      "ItemCF Evaluation Results:\n",
      "Average Recall: 0.6203\n",
      "Average Precision: 0.6501\n"
     ]
    }
   ],
   "source": [
    "# 模型评估\n",
    "evaluation_results = evaluate_itemCF(\n",
    "    user_pos_item_test=user_pos_item_test,\n",
    "    user_neg_item_test=user_neg_item_test,\n",
    "    pred_set=recomedations_by_itemCF\n",
    ")\n",
    "# 打印评估结果\n",
    "print(\"ItemCF Evaluation Results:\")\n",
    "print(f\"Average Recall: {evaluation_results['Average Recall']:.4f}\")\n",
    "print(f\"Average Precision: {evaluation_results['Average Precision']:.4f}\")"
   ]
  },
  {
   "cell_type": "code",
   "execution_count": null,
   "id": "2a0aa59c-c7e5-4985-8cb2-46a9a3708d23",
   "metadata": {},
   "outputs": [],
   "source": []
  }
 ],
 "metadata": {
  "kernelspec": {
   "display_name": "Rec",
   "language": "python",
   "name": "rec"
  },
  "language_info": {
   "codemirror_mode": {
    "name": "ipython",
    "version": 3
   },
   "file_extension": ".py",
   "mimetype": "text/x-python",
   "name": "python",
   "nbconvert_exporter": "python",
   "pygments_lexer": "ipython3",
   "version": "3.9.20"
  }
 },
 "nbformat": 4,
 "nbformat_minor": 5
}
